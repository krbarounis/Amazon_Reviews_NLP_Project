{
 "cells": [
  {
   "cell_type": "markdown",
   "metadata": {},
   "source": [
    "## EDA & Data cleaning"
   ]
  },
  {
   "cell_type": "markdown",
   "metadata": {},
   "source": [
    "In this notebook, we have used NLP techniques to clean up our dataset (removed stop words and punctuation and lemmatized each review) in order to prepare the data for classification algorithms.  "
   ]
  },
  {
   "cell_type": "code",
   "execution_count": null,
   "metadata": {},
   "outputs": [],
   "source": [
    "import numpy as np\n",
    "from tqdm import tqdm\n",
    "import pandas as pd\n",
    "import json\n",
    "import string\n",
    "import spacy\n",
    "import nltk\n",
    "from nltk.corpus import stopwords\n",
    "from  nltk import FreqDist\n",
    "from nltk import word_tokenize\n",
    "from nltk.stem import WordNetLemmatizer \n",
    "from sklearn.feature_extraction.text import CountVectorizer, TfidfVectorizer\n",
    "import itertools\n",
    "import seaborn as sns\n",
    "import matplotlib.pyplot as plt\n",
    "%matplotlib inline"
   ]
  },
  {
   "cell_type": "code",
   "execution_count": 19,
   "metadata": {},
   "outputs": [],
   "source": [
    "# load json file and put into a df\n",
    "data = [json.loads(line) for line in open('../reviews_Electronics_5.json', 'r')]\n",
    "df = pd.DataFrame(data)"
   ]
  },
  {
   "cell_type": "code",
   "execution_count": 20,
   "metadata": {},
   "outputs": [
    {
     "data": {
      "text/html": [
       "<div>\n",
       "<style scoped>\n",
       "    .dataframe tbody tr th:only-of-type {\n",
       "        vertical-align: middle;\n",
       "    }\n",
       "\n",
       "    .dataframe tbody tr th {\n",
       "        vertical-align: top;\n",
       "    }\n",
       "\n",
       "    .dataframe thead th {\n",
       "        text-align: right;\n",
       "    }\n",
       "</style>\n",
       "<table border=\"1\" class=\"dataframe\">\n",
       "  <thead>\n",
       "    <tr style=\"text-align: right;\">\n",
       "      <th></th>\n",
       "      <th>asin</th>\n",
       "      <th>helpful</th>\n",
       "      <th>overall</th>\n",
       "      <th>reviewText</th>\n",
       "      <th>reviewTime</th>\n",
       "      <th>reviewerID</th>\n",
       "      <th>reviewerName</th>\n",
       "      <th>summary</th>\n",
       "      <th>unixReviewTime</th>\n",
       "    </tr>\n",
       "  </thead>\n",
       "  <tbody>\n",
       "    <tr>\n",
       "      <th>0</th>\n",
       "      <td>0528881469</td>\n",
       "      <td>[0, 0]</td>\n",
       "      <td>5.0</td>\n",
       "      <td>We got this GPS for my husband who is an (OTR)...</td>\n",
       "      <td>06 2, 2013</td>\n",
       "      <td>AO94DHGC771SJ</td>\n",
       "      <td>amazdnu</td>\n",
       "      <td>Gotta have GPS!</td>\n",
       "      <td>1370131200</td>\n",
       "    </tr>\n",
       "    <tr>\n",
       "      <th>1</th>\n",
       "      <td>0528881469</td>\n",
       "      <td>[12, 15]</td>\n",
       "      <td>1.0</td>\n",
       "      <td>I'm a professional OTR truck driver, and I bou...</td>\n",
       "      <td>11 25, 2010</td>\n",
       "      <td>AMO214LNFCEI4</td>\n",
       "      <td>Amazon Customer</td>\n",
       "      <td>Very Disappointed</td>\n",
       "      <td>1290643200</td>\n",
       "    </tr>\n",
       "    <tr>\n",
       "      <th>2</th>\n",
       "      <td>0528881469</td>\n",
       "      <td>[43, 45]</td>\n",
       "      <td>3.0</td>\n",
       "      <td>Well, what can I say.  I've had this unit in m...</td>\n",
       "      <td>09 9, 2010</td>\n",
       "      <td>A3N7T0DY83Y4IG</td>\n",
       "      <td>C. A. Freeman</td>\n",
       "      <td>1st impression</td>\n",
       "      <td>1283990400</td>\n",
       "    </tr>\n",
       "    <tr>\n",
       "      <th>3</th>\n",
       "      <td>0528881469</td>\n",
       "      <td>[9, 10]</td>\n",
       "      <td>2.0</td>\n",
       "      <td>Not going to write a long review, even thought...</td>\n",
       "      <td>11 24, 2010</td>\n",
       "      <td>A1H8PY3QHMQQA0</td>\n",
       "      <td>Dave M. Shaw \"mack dave\"</td>\n",
       "      <td>Great grafics, POOR GPS</td>\n",
       "      <td>1290556800</td>\n",
       "    </tr>\n",
       "    <tr>\n",
       "      <th>4</th>\n",
       "      <td>0528881469</td>\n",
       "      <td>[0, 0]</td>\n",
       "      <td>1.0</td>\n",
       "      <td>I've had mine for a year and here's what we go...</td>\n",
       "      <td>09 29, 2011</td>\n",
       "      <td>A24EV6RXELQZ63</td>\n",
       "      <td>Wayne Smith</td>\n",
       "      <td>Major issues, only excuses for support</td>\n",
       "      <td>1317254400</td>\n",
       "    </tr>\n",
       "  </tbody>\n",
       "</table>\n",
       "</div>"
      ],
      "text/plain": [
       "         asin   helpful  overall  \\\n",
       "0  0528881469    [0, 0]      5.0   \n",
       "1  0528881469  [12, 15]      1.0   \n",
       "2  0528881469  [43, 45]      3.0   \n",
       "3  0528881469   [9, 10]      2.0   \n",
       "4  0528881469    [0, 0]      1.0   \n",
       "\n",
       "                                          reviewText   reviewTime  \\\n",
       "0  We got this GPS for my husband who is an (OTR)...   06 2, 2013   \n",
       "1  I'm a professional OTR truck driver, and I bou...  11 25, 2010   \n",
       "2  Well, what can I say.  I've had this unit in m...   09 9, 2010   \n",
       "3  Not going to write a long review, even thought...  11 24, 2010   \n",
       "4  I've had mine for a year and here's what we go...  09 29, 2011   \n",
       "\n",
       "       reviewerID              reviewerName  \\\n",
       "0   AO94DHGC771SJ                   amazdnu   \n",
       "1   AMO214LNFCEI4           Amazon Customer   \n",
       "2  A3N7T0DY83Y4IG             C. A. Freeman   \n",
       "3  A1H8PY3QHMQQA0  Dave M. Shaw \"mack dave\"   \n",
       "4  A24EV6RXELQZ63               Wayne Smith   \n",
       "\n",
       "                                  summary  unixReviewTime  \n",
       "0                         Gotta have GPS!      1370131200  \n",
       "1                       Very Disappointed      1290643200  \n",
       "2                          1st impression      1283990400  \n",
       "3                 Great grafics, POOR GPS      1290556800  \n",
       "4  Major issues, only excuses for support      1317254400  "
      ]
     },
     "execution_count": 20,
     "metadata": {},
     "output_type": "execute_result"
    }
   ],
   "source": [
    "df.head()"
   ]
  },
  {
   "cell_type": "code",
   "execution_count": 21,
   "metadata": {},
   "outputs": [
    {
     "data": {
      "text/plain": [
       "(1689188, 9)"
      ]
     },
     "execution_count": 21,
     "metadata": {},
     "output_type": "execute_result"
    }
   ],
   "source": [
    "# there are 1.6 million reviews! for processing speed, we should drop a lot of these\n",
    "df.shape"
   ]
  },
  {
   "cell_type": "code",
   "execution_count": 22,
   "metadata": {},
   "outputs": [
    {
     "data": {
      "text/plain": [
       "5.0    1009026\n",
       "4.0     347041\n",
       "3.0     142257\n",
       "1.0     108725\n",
       "2.0      82139\n",
       "Name: overall, dtype: int64"
      ]
     },
     "execution_count": 22,
     "metadata": {},
     "output_type": "execute_result"
    }
   ],
   "source": [
    "df['overall'].value_counts()"
   ]
  },
  {
   "cell_type": "code",
   "execution_count": 23,
   "metadata": {},
   "outputs": [],
   "source": [
    "# drop reviews to reduce class imabalance and reduce size of data\n",
    "remove_n_5 = 999026\n",
    "remove_n_4 = 337041\n",
    "remove_n_3 = 132257\n",
    "remove_n_2 = 72139\n",
    "remove_n_1 = 98725\n",
    "\n",
    "just5 = df.loc[df['overall'] == 5]\n",
    "just4 = df.loc[df['overall'] == 4]\n",
    "just3 = df.loc[df['overall'] == 3]\n",
    "just2 = df.loc[df['overall'] == 2]\n",
    "just1 = df.loc[df['overall'] == 1]\n",
    "\n",
    "# drop a random sample from each rating bucket\n",
    "drop_indices_5 = np.random.choice(just5.index, remove_n_5, replace=False)\n",
    "drop_indices_4 = np.random.choice(just4.index, remove_n_4, replace=False)\n",
    "drop_indices_3 = np.random.choice(just3.index, remove_n_3, replace=False)\n",
    "drop_indices_2 = np.random.choice(just2.index, remove_n_2, replace=False)\n",
    "drop_indices_1 = np.random.choice(just1.index, remove_n_1, replace=False)\n",
    "\n",
    "df_final = df.drop(drop_indices_5)\n",
    "df_final = df_final.drop(drop_indices_4)\n",
    "df_final = df_final.drop(drop_indices_3)\n",
    "df_final = df_final.drop(drop_indices_2)\n",
    "df_final = df_final.drop(drop_indices_1)"
   ]
  },
  {
   "cell_type": "code",
   "execution_count": 24,
   "metadata": {},
   "outputs": [
    {
     "data": {
      "text/plain": [
       "3.0    10000\n",
       "5.0    10000\n",
       "2.0    10000\n",
       "4.0    10000\n",
       "1.0    10000\n",
       "Name: overall, dtype: int64"
      ]
     },
     "execution_count": 24,
     "metadata": {},
     "output_type": "execute_result"
    }
   ],
   "source": [
    "df_final['overall'].value_counts()"
   ]
  },
  {
   "cell_type": "code",
   "execution_count": 25,
   "metadata": {},
   "outputs": [
    {
     "data": {
      "text/plain": [
       "(50000, 9)"
      ]
     },
     "execution_count": 25,
     "metadata": {},
     "output_type": "execute_result"
    }
   ],
   "source": [
    "df_final.shape"
   ]
  },
  {
   "cell_type": "code",
   "execution_count": 26,
   "metadata": {},
   "outputs": [],
   "source": [
    "df_final.reset_index(drop=True,inplace=True)"
   ]
  },
  {
   "cell_type": "code",
   "execution_count": 27,
   "metadata": {},
   "outputs": [
    {
     "data": {
      "text/html": [
       "<div>\n",
       "<style scoped>\n",
       "    .dataframe tbody tr th:only-of-type {\n",
       "        vertical-align: middle;\n",
       "    }\n",
       "\n",
       "    .dataframe tbody tr th {\n",
       "        vertical-align: top;\n",
       "    }\n",
       "\n",
       "    .dataframe thead th {\n",
       "        text-align: right;\n",
       "    }\n",
       "</style>\n",
       "<table border=\"1\" class=\"dataframe\">\n",
       "  <thead>\n",
       "    <tr style=\"text-align: right;\">\n",
       "      <th></th>\n",
       "      <th>asin</th>\n",
       "      <th>helpful</th>\n",
       "      <th>overall</th>\n",
       "      <th>reviewText</th>\n",
       "      <th>reviewTime</th>\n",
       "      <th>reviewerID</th>\n",
       "      <th>reviewerName</th>\n",
       "      <th>summary</th>\n",
       "      <th>unixReviewTime</th>\n",
       "    </tr>\n",
       "  </thead>\n",
       "  <tbody>\n",
       "    <tr>\n",
       "      <th>0</th>\n",
       "      <td>0528881469</td>\n",
       "      <td>[12, 15]</td>\n",
       "      <td>1.0</td>\n",
       "      <td>I'm a professional OTR truck driver, and I bou...</td>\n",
       "      <td>11 25, 2010</td>\n",
       "      <td>AMO214LNFCEI4</td>\n",
       "      <td>Amazon Customer</td>\n",
       "      <td>Very Disappointed</td>\n",
       "      <td>1290643200</td>\n",
       "    </tr>\n",
       "    <tr>\n",
       "      <th>1</th>\n",
       "      <td>0972683275</td>\n",
       "      <td>[0, 0]</td>\n",
       "      <td>4.0</td>\n",
       "      <td>This mount works really well once you get it u...</td>\n",
       "      <td>11 23, 2013</td>\n",
       "      <td>A3BMUBUC1N77U8</td>\n",
       "      <td>ahoffoss</td>\n",
       "      <td>Pretty simple, but definitely good!</td>\n",
       "      <td>1385164800</td>\n",
       "    </tr>\n",
       "    <tr>\n",
       "      <th>2</th>\n",
       "      <td>0972683275</td>\n",
       "      <td>[0, 0]</td>\n",
       "      <td>5.0</td>\n",
       "      <td>In the process of turning our master bedroom i...</td>\n",
       "      <td>06 1, 2011</td>\n",
       "      <td>A6J8D9V5S9MBE</td>\n",
       "      <td>Curtis G</td>\n",
       "      <td>Simple and effective. Just the way I like it.</td>\n",
       "      <td>1306886400</td>\n",
       "    </tr>\n",
       "    <tr>\n",
       "      <th>3</th>\n",
       "      <td>0972683275</td>\n",
       "      <td>[1, 1]</td>\n",
       "      <td>3.0</td>\n",
       "      <td>I gave this mount 3 stars.5 to start because o...</td>\n",
       "      <td>02 7, 2012</td>\n",
       "      <td>A39Z4OU2C7ENWH</td>\n",
       "      <td>Dave C</td>\n",
       "      <td>Works, but I don't trust it</td>\n",
       "      <td>1328572800</td>\n",
       "    </tr>\n",
       "    <tr>\n",
       "      <th>4</th>\n",
       "      <td>0972683275</td>\n",
       "      <td>[0, 0]</td>\n",
       "      <td>4.0</td>\n",
       "      <td>Bought the mount for my 30&amp;#34; Dell U3011 mon...</td>\n",
       "      <td>02 7, 2013</td>\n",
       "      <td>A3OYE7X2O08LNT</td>\n",
       "      <td>dwilly910</td>\n",
       "      <td>Works good, but has some sag</td>\n",
       "      <td>1360195200</td>\n",
       "    </tr>\n",
       "  </tbody>\n",
       "</table>\n",
       "</div>"
      ],
      "text/plain": [
       "         asin   helpful  overall  \\\n",
       "0  0528881469  [12, 15]      1.0   \n",
       "1  0972683275    [0, 0]      4.0   \n",
       "2  0972683275    [0, 0]      5.0   \n",
       "3  0972683275    [1, 1]      3.0   \n",
       "4  0972683275    [0, 0]      4.0   \n",
       "\n",
       "                                          reviewText   reviewTime  \\\n",
       "0  I'm a professional OTR truck driver, and I bou...  11 25, 2010   \n",
       "1  This mount works really well once you get it u...  11 23, 2013   \n",
       "2  In the process of turning our master bedroom i...   06 1, 2011   \n",
       "3  I gave this mount 3 stars.5 to start because o...   02 7, 2012   \n",
       "4  Bought the mount for my 30&#34; Dell U3011 mon...   02 7, 2013   \n",
       "\n",
       "       reviewerID     reviewerName  \\\n",
       "0   AMO214LNFCEI4  Amazon Customer   \n",
       "1  A3BMUBUC1N77U8         ahoffoss   \n",
       "2   A6J8D9V5S9MBE         Curtis G   \n",
       "3  A39Z4OU2C7ENWH           Dave C   \n",
       "4  A3OYE7X2O08LNT        dwilly910   \n",
       "\n",
       "                                         summary  unixReviewTime  \n",
       "0                              Very Disappointed      1290643200  \n",
       "1            Pretty simple, but definitely good!      1385164800  \n",
       "2  Simple and effective. Just the way I like it.      1306886400  \n",
       "3                    Works, but I don't trust it      1328572800  \n",
       "4                   Works good, but has some sag      1360195200  "
      ]
     },
     "execution_count": 27,
     "metadata": {},
     "output_type": "execute_result"
    }
   ],
   "source": [
    "df_final.head()"
   ]
  },
  {
   "cell_type": "markdown",
   "metadata": {},
   "source": [
    "## Feature engineering"
   ]
  },
  {
   "cell_type": "code",
   "execution_count": 28,
   "metadata": {},
   "outputs": [],
   "source": [
    "# new dataframe for engineered features\n",
    "df_engineered = pd.DataFrame()"
   ]
  },
  {
   "cell_type": "code",
   "execution_count": 29,
   "metadata": {},
   "outputs": [],
   "source": [
    "# length of review\n",
    "df_engineered['review_length'] = df_final['reviewText'].apply(lambda x: len(x))"
   ]
  },
  {
   "cell_type": "code",
   "execution_count": 30,
   "metadata": {},
   "outputs": [],
   "source": [
    "# word count for review\n",
    "df_engineered['word_count'] = df_final['reviewText'].apply(lambda x: len(x.split(\" \")))"
   ]
  },
  {
   "cell_type": "code",
   "execution_count": 31,
   "metadata": {},
   "outputs": [],
   "source": [
    "# number of exclamation points\n",
    "df_engineered['exclamation_count'] = df_final['reviewText'].apply(lambda x: x.count('!'))"
   ]
  },
  {
   "cell_type": "code",
   "execution_count": 32,
   "metadata": {},
   "outputs": [],
   "source": [
    "# number of question marks\n",
    "df_engineered['question_count'] = df_final['reviewText'].apply(lambda x: x.count('?'))"
   ]
  },
  {
   "cell_type": "code",
   "execution_count": 33,
   "metadata": {},
   "outputs": [],
   "source": [
    "# include rating in this dataframe for visualization purposes\n",
    "df_engineered['overall'] = df_final['overall']"
   ]
  },
  {
   "cell_type": "code",
   "execution_count": 34,
   "metadata": {},
   "outputs": [],
   "source": [
    "df_engineered.to_csv('df_engineered.csv',index=None,header=True)"
   ]
  },
  {
   "cell_type": "markdown",
   "metadata": {},
   "source": [
    "## NLP pre-processing"
   ]
  },
  {
   "cell_type": "code",
   "execution_count": null,
   "metadata": {},
   "outputs": [],
   "source": [
    "# Pipeline for cleaning text\n",
    "    # 1. lowercase everything\n",
    "    # 2. remove puncuation\n",
    "    # 4. remove stop words\n",
    "    # 3. lemmatize (with spacy)"
   ]
  },
  {
   "cell_type": "code",
   "execution_count": 35,
   "metadata": {},
   "outputs": [],
   "source": [
    "def clean_reviews(review):\n",
    "    \"\"\"\n",
    "    clean_review(review):\n",
    "    Returns a list of lemmas from the review\n",
    "    Params:\n",
    "        review: individual review from Amazon Product Review dataset\n",
    "        stop_words: words and punctuation to remove from reviews\n",
    "    Returns:\n",
    "        A cleaned version of the review, in the form of a list of lemmas, having been cleaned of\n",
    "        stopwords and punctuation\n",
    "    \"\"\"\n",
    "    # lowercase the text    \n",
    "    review=review.lower()\n",
    "    \n",
    "    # remove punctuation\n",
    "    for punc in string.punctuation:\n",
    "        review = review.replace(punc, ' ')\n",
    "        \n",
    "    # remove all stopwords\n",
    "    clean = '' \n",
    "    for word in word_tokenize(review): \n",
    "        if word not in stopwords.words('english'):\n",
    "             clean += word + ' '\n",
    "    \n",
    "    # lemmatize\n",
    "    # load english model package\n",
    "    s = spacy.load('en')\n",
    "    lemmatized = s(clean)\n",
    "    \n",
    "    # return the lemmas of the words as a string\n",
    "    return ' '.join(word.lemma_ for word in lemmatized)"
   ]
  },
  {
   "cell_type": "code",
   "execution_count": 36,
   "metadata": {},
   "outputs": [
    {
     "name": "stderr",
     "output_type": "stream",
     "text": [
      "100%|██████████| 50000/50000 [11:38:22<00:00,  1.38it/s]  \n"
     ]
    }
   ],
   "source": [
    "# this takes a long time, so lets track progress w/ tqdm\n",
    "tqdm.pandas()\n",
    "# clean all the reviews and make a new column in the df\n",
    "df_final['cleaned'] = df_final['reviewText'].progress_apply(lambda x: clean_reviews(x))"
   ]
  },
  {
   "cell_type": "code",
   "execution_count": 38,
   "metadata": {},
   "outputs": [
    {
     "data": {
      "text/html": [
       "<div>\n",
       "<style scoped>\n",
       "    .dataframe tbody tr th:only-of-type {\n",
       "        vertical-align: middle;\n",
       "    }\n",
       "\n",
       "    .dataframe tbody tr th {\n",
       "        vertical-align: top;\n",
       "    }\n",
       "\n",
       "    .dataframe thead th {\n",
       "        text-align: right;\n",
       "    }\n",
       "</style>\n",
       "<table border=\"1\" class=\"dataframe\">\n",
       "  <thead>\n",
       "    <tr style=\"text-align: right;\">\n",
       "      <th></th>\n",
       "      <th>asin</th>\n",
       "      <th>helpful</th>\n",
       "      <th>overall</th>\n",
       "      <th>reviewText</th>\n",
       "      <th>reviewTime</th>\n",
       "      <th>reviewerID</th>\n",
       "      <th>reviewerName</th>\n",
       "      <th>summary</th>\n",
       "      <th>unixReviewTime</th>\n",
       "      <th>cleaned</th>\n",
       "    </tr>\n",
       "  </thead>\n",
       "  <tbody>\n",
       "    <tr>\n",
       "      <th>0</th>\n",
       "      <td>0528881469</td>\n",
       "      <td>[12, 15]</td>\n",
       "      <td>1.0</td>\n",
       "      <td>I'm a professional OTR truck driver, and I bou...</td>\n",
       "      <td>11 25, 2010</td>\n",
       "      <td>AMO214LNFCEI4</td>\n",
       "      <td>Amazon Customer</td>\n",
       "      <td>Very Disappointed</td>\n",
       "      <td>1290643200</td>\n",
       "      <td>professional otr truck driver buy tnd 700 truc...</td>\n",
       "    </tr>\n",
       "    <tr>\n",
       "      <th>1</th>\n",
       "      <td>0972683275</td>\n",
       "      <td>[0, 0]</td>\n",
       "      <td>4.0</td>\n",
       "      <td>This mount works really well once you get it u...</td>\n",
       "      <td>11 23, 2013</td>\n",
       "      <td>A3BMUBUC1N77U8</td>\n",
       "      <td>ahoffoss</td>\n",
       "      <td>Pretty simple, but definitely good!</td>\n",
       "      <td>1385164800</td>\n",
       "      <td>mount work really well get go problem arm litt...</td>\n",
       "    </tr>\n",
       "    <tr>\n",
       "      <th>2</th>\n",
       "      <td>0972683275</td>\n",
       "      <td>[0, 0]</td>\n",
       "      <td>5.0</td>\n",
       "      <td>In the process of turning our master bedroom i...</td>\n",
       "      <td>06 1, 2011</td>\n",
       "      <td>A6J8D9V5S9MBE</td>\n",
       "      <td>Curtis G</td>\n",
       "      <td>Simple and effective. Just the way I like it.</td>\n",
       "      <td>1306886400</td>\n",
       "      <td>process turn master bedroom fortress solitude ...</td>\n",
       "    </tr>\n",
       "    <tr>\n",
       "      <th>3</th>\n",
       "      <td>0972683275</td>\n",
       "      <td>[1, 1]</td>\n",
       "      <td>3.0</td>\n",
       "      <td>I gave this mount 3 stars.5 to start because o...</td>\n",
       "      <td>02 7, 2012</td>\n",
       "      <td>A39Z4OU2C7ENWH</td>\n",
       "      <td>Dave C</td>\n",
       "      <td>Works, but I don't trust it</td>\n",
       "      <td>1328572800</td>\n",
       "      <td>give mount 3 star 5 start box mount wall reall...</td>\n",
       "    </tr>\n",
       "    <tr>\n",
       "      <th>4</th>\n",
       "      <td>0972683275</td>\n",
       "      <td>[0, 0]</td>\n",
       "      <td>4.0</td>\n",
       "      <td>Bought the mount for my 30&amp;#34; Dell U3011 mon...</td>\n",
       "      <td>02 7, 2013</td>\n",
       "      <td>A3OYE7X2O08LNT</td>\n",
       "      <td>dwilly910</td>\n",
       "      <td>Works good, but has some sag</td>\n",
       "      <td>1360195200</td>\n",
       "      <td>buy mount 30 34 dell u3011 monitor fit dell qu...</td>\n",
       "    </tr>\n",
       "  </tbody>\n",
       "</table>\n",
       "</div>"
      ],
      "text/plain": [
       "         asin   helpful  overall  \\\n",
       "0  0528881469  [12, 15]      1.0   \n",
       "1  0972683275    [0, 0]      4.0   \n",
       "2  0972683275    [0, 0]      5.0   \n",
       "3  0972683275    [1, 1]      3.0   \n",
       "4  0972683275    [0, 0]      4.0   \n",
       "\n",
       "                                          reviewText   reviewTime  \\\n",
       "0  I'm a professional OTR truck driver, and I bou...  11 25, 2010   \n",
       "1  This mount works really well once you get it u...  11 23, 2013   \n",
       "2  In the process of turning our master bedroom i...   06 1, 2011   \n",
       "3  I gave this mount 3 stars.5 to start because o...   02 7, 2012   \n",
       "4  Bought the mount for my 30&#34; Dell U3011 mon...   02 7, 2013   \n",
       "\n",
       "       reviewerID     reviewerName  \\\n",
       "0   AMO214LNFCEI4  Amazon Customer   \n",
       "1  A3BMUBUC1N77U8         ahoffoss   \n",
       "2   A6J8D9V5S9MBE         Curtis G   \n",
       "3  A39Z4OU2C7ENWH           Dave C   \n",
       "4  A3OYE7X2O08LNT        dwilly910   \n",
       "\n",
       "                                         summary  unixReviewTime  \\\n",
       "0                              Very Disappointed      1290643200   \n",
       "1            Pretty simple, but definitely good!      1385164800   \n",
       "2  Simple and effective. Just the way I like it.      1306886400   \n",
       "3                    Works, but I don't trust it      1328572800   \n",
       "4                   Works good, but has some sag      1360195200   \n",
       "\n",
       "                                             cleaned  \n",
       "0  professional otr truck driver buy tnd 700 truc...  \n",
       "1  mount work really well get go problem arm litt...  \n",
       "2  process turn master bedroom fortress solitude ...  \n",
       "3  give mount 3 star 5 start box mount wall reall...  \n",
       "4  buy mount 30 34 dell u3011 monitor fit dell qu...  "
      ]
     },
     "execution_count": 38,
     "metadata": {},
     "output_type": "execute_result"
    }
   ],
   "source": [
    "df_final.head()"
   ]
  },
  {
   "cell_type": "code",
   "execution_count": 39,
   "metadata": {},
   "outputs": [],
   "source": [
    "# put the cleaned reviews + the ratings into a new dataframe\n",
    "df_reviews_final = df_final[['cleaned','overall']]"
   ]
  },
  {
   "cell_type": "code",
   "execution_count": 68,
   "metadata": {},
   "outputs": [
    {
     "data": {
      "text/html": [
       "<div>\n",
       "<style scoped>\n",
       "    .dataframe tbody tr th:only-of-type {\n",
       "        vertical-align: middle;\n",
       "    }\n",
       "\n",
       "    .dataframe tbody tr th {\n",
       "        vertical-align: top;\n",
       "    }\n",
       "\n",
       "    .dataframe thead th {\n",
       "        text-align: right;\n",
       "    }\n",
       "</style>\n",
       "<table border=\"1\" class=\"dataframe\">\n",
       "  <thead>\n",
       "    <tr style=\"text-align: right;\">\n",
       "      <th></th>\n",
       "      <th>cleaned</th>\n",
       "      <th>overall</th>\n",
       "    </tr>\n",
       "  </thead>\n",
       "  <tbody>\n",
       "    <tr>\n",
       "      <th>0</th>\n",
       "      <td>professional otr truck driver buy tnd 700 truc...</td>\n",
       "      <td>1.0</td>\n",
       "    </tr>\n",
       "    <tr>\n",
       "      <th>1</th>\n",
       "      <td>mount work really well get go problem arm litt...</td>\n",
       "      <td>4.0</td>\n",
       "    </tr>\n",
       "    <tr>\n",
       "      <th>2</th>\n",
       "      <td>process turn master bedroom fortress solitude ...</td>\n",
       "      <td>5.0</td>\n",
       "    </tr>\n",
       "    <tr>\n",
       "      <th>3</th>\n",
       "      <td>give mount 3 star 5 start box mount wall reall...</td>\n",
       "      <td>3.0</td>\n",
       "    </tr>\n",
       "    <tr>\n",
       "      <th>4</th>\n",
       "      <td>buy mount 30 34 dell u3011 monitor fit dell qu...</td>\n",
       "      <td>4.0</td>\n",
       "    </tr>\n",
       "  </tbody>\n",
       "</table>\n",
       "</div>"
      ],
      "text/plain": [
       "                                             cleaned  overall\n",
       "0  professional otr truck driver buy tnd 700 truc...      1.0\n",
       "1  mount work really well get go problem arm litt...      4.0\n",
       "2  process turn master bedroom fortress solitude ...      5.0\n",
       "3  give mount 3 star 5 start box mount wall reall...      3.0\n",
       "4  buy mount 30 34 dell u3011 monitor fit dell qu...      4.0"
      ]
     },
     "execution_count": 68,
     "metadata": {},
     "output_type": "execute_result"
    }
   ],
   "source": [
    "df_reviews_final.head()"
   ]
  },
  {
   "cell_type": "code",
   "execution_count": 70,
   "metadata": {},
   "outputs": [],
   "source": [
    "# save final dataframe to csv\n",
    "df_reviews_final.to_csv('../final_df.csv',index=None,header=True)"
   ]
  },
  {
   "cell_type": "markdown",
   "metadata": {},
   "source": [
    "## Visuals"
   ]
  },
  {
   "cell_type": "code",
   "execution_count": 43,
   "metadata": {},
   "outputs": [
    {
     "data": {
      "image/png": "[encoded data removed]",
      "text/plain": [
       "<Figure size 432x288 with 1 Axes>"
      ]
     },
     "metadata": {},
     "output_type": "display_data"
    }
   ],
   "source": [
    "# create a bar graph that shows original distribution across rating buckets \n",
    "sns.set(style='white')\n",
    "ax=sns.countplot(x='overall', data=df)\n",
    "\n",
    "ax.set(xlabel='Rating', ylabel='Frequency')\n",
    "ax.set(title='Original Distribution')\n",
    "plt.tight_layout()\n",
    "plt.savefig('class_imbalance',dpi=500)"
   ]
  },
  {
   "cell_type": "code",
   "execution_count": 44,
   "metadata": {},
   "outputs": [
    {
     "data": {
      "image/png": "[encoded data removed]",
      "text/plain": [
       "<Figure size 432x288 with 1 Axes>"
      ]
     },
     "metadata": {},
     "output_type": "display_data"
    }
   ],
   "source": [
    "# create a bar graph that shows new distribution across rating buckets after adjusting for class imbalance\n",
    "sns.set(style='white')\n",
    "ax=sns.countplot(x='overall', data=df_final)\n",
    "\n",
    "ax.set(xlabel='Rating', ylabel='Frequency')\n",
    "ax.set(title='Final Distribution')\n",
    "plt.tight_layout()\n",
    "plt.savefig('class_imbalance_fixed',dpi=500)"
   ]
  },
  {
   "cell_type": "code",
   "execution_count": 45,
   "metadata": {
    "scrolled": true
   },
   "outputs": [
    {
     "data": {
      "image/png": "[encoded data removed]",
      "text/plain": [
       "<Figure size 432x288 with 1 Axes>"
      ]
     },
     "metadata": {},
     "output_type": "display_data"
    }
   ],
   "source": [
    "# create boxplot to visualize word count across rating buckets\n",
    "ax = sns.boxplot(x='overall',y='word_count',data=df_engineered, palette='Accent')\n",
    "ax.set(title='Length of reviews across ratings')\n",
    "ax.set(xlabel='Rating',ylabel='Number of words in review')\n",
    "plt.tight_layout()\n",
    "# plt.savefig()"
   ]
  },
  {
   "cell_type": "code",
   "execution_count": 46,
   "metadata": {},
   "outputs": [
    {
     "data": {
      "image/png": "[encoded data removed]",
      "text/plain": [
       "<Figure size 432x288 with 1 Axes>"
      ]
     },
     "metadata": {},
     "output_type": "display_data"
    }
   ],
   "source": [
    "# create boxplot to visualize number of exclamation points across rating buckets\n",
    "ax = sns.boxplot(x='overall',y='exclamation_count',data=df_engineered, palette='Accent')\n",
    "ax.set(title='Number of exclamation points used across ratings')\n",
    "ax.set(xlabel='Rating',ylabel='Number of exclamation points used')\n",
    "plt.tight_layout()"
   ]
  },
  {
   "cell_type": "markdown",
   "metadata": {},
   "source": [
    "## Exploring top words"
   ]
  },
  {
   "cell_type": "code",
   "execution_count": 63,
   "metadata": {},
   "outputs": [],
   "source": [
    "# Let's look at the top n-grams\n",
    "def get_top_n_grams(corpus, range_start, range_end, title, xlabel, ylabel, n=None):\n",
    "    \"\"\"\n",
    "    List the top n words (or n-grams) in a vocabulary according to occurrence in a text corpus.\n",
    "    \n",
    "    get_top_n_words([\"I love Python\", \"Python is a language programming\", \"Hello world\", \"I love the world\"]) -> \n",
    "    [('python', 2),\n",
    "     ('world', 2),\n",
    "     ('love', 2),\n",
    "     ('hello', 1),\n",
    "     ('is', 1),\n",
    "     ('programming', 1),\n",
    "     ('the', 1),\n",
    "     ('language', 1)]\n",
    "    \"\"\"\n",
    "    vec = CountVectorizer(ngram_range=(range_start,range_end)).fit(corpus)\n",
    "    bag_of_words = vec.transform(corpus)\n",
    "    sum_words = bag_of_words.sum(axis=0) \n",
    "    words_freq = [(word, sum_words[0, idx]) for word, idx in vec.vocabulary_.items()]\n",
    "    words_freq =sorted(words_freq, key = lambda x: x[1], reverse=True)\n",
    "    df = pd.DataFrame(words_freq[:n])\n",
    "    \n",
    "    plt.figure(figsize=(15,5))\n",
    "    ax = sns.barplot(x=0,y=1, data=df)\n",
    "    ax.set(title=title)\n",
    "    ax.set(xlabel=xlabel, ylabel=ylabel)\n",
    "    plt.tight_layout()\n",
    "    plt.savefig(title)"
   ]
  },
  {
   "cell_type": "code",
   "execution_count": 64,
   "metadata": {},
   "outputs": [
    {
     "data": {
      "image/png": "[encoded data removed]",
      "text/plain": [
       "<Figure size 1080x360 with 1 Axes>"
      ]
     },
     "metadata": {},
     "output_type": "display_data"
    }
   ],
   "source": [
    "# find top words before removing stop words\n",
    "get_top_n_grams(df_final['reviewText'],range_start=1,range_end=1, n=10, \n",
    "                title='Most Common Words in Corpus',xlabel='Words',ylabel='Count')"
   ]
  },
  {
   "cell_type": "code",
   "execution_count": 65,
   "metadata": {},
   "outputs": [
    {
     "data": {
      "image/png": "[encoded data removed]",
      "text/plain": [
       "<Figure size 1080x360 with 1 Axes>"
      ]
     },
     "metadata": {},
     "output_type": "display_data"
    }
   ],
   "source": [
    "# find top words after removing stop words\n",
    "get_top_n_grams(df_reviews_final['cleaned'],range_start=1,range_end=1, n=10, \n",
    "                title='Most Common Words in Corpus (Stop Words Removed)',xlabel='Words',ylabel='Count')"
   ]
  },
  {
   "cell_type": "code",
   "execution_count": 66,
   "metadata": {},
   "outputs": [
    {
     "data": {
      "image/png": "[encoded data removed]",
      "text/plain": [
       "<Figure size 1080x360 with 1 Axes>"
      ]
     },
     "metadata": {},
     "output_type": "display_data"
    }
   ],
   "source": [
    "# top bigrams before removing stop words\n",
    "get_top_n_grams(df_final['reviewText'],range_start=2,range_end=2, n=10, \n",
    "                title='Most Common Bigrams in Corpus',xlabel='Bigrams',ylabel='Count')"
   ]
  },
  {
   "cell_type": "code",
   "execution_count": 67,
   "metadata": {},
   "outputs": [
    {
     "data": {
      "image/png": "[encoded data removed]",
      "text/plain": [
       "<Figure size 1080x360 with 1 Axes>"
      ]
     },
     "metadata": {},
     "output_type": "display_data"
    }
   ],
   "source": [
    "# find top bigrams after removing stop words\n",
    "get_top_n_grams(df_reviews_final['cleaned'],range_start=2,range_end=2, n=10, \n",
    "                title='Most Common Bigrams in Corpus (Stop Words Removed)',xlabel='Bigrams',ylabel='Count')"
   ]
  }
 ],
 "metadata": {
  "kernelspec": {
   "display_name": "Python 3",
   "language": "python",
   "name": "python3"
  },
  "language_info": {
   "codemirror_mode": {
    "name": "ipython",
    "version": 3
   },
   "file_extension": ".py",
   "mimetype": "text/x-python",
   "name": "python",
   "nbconvert_exporter": "python",
   "pygments_lexer": "ipython3",
   "version": "3.7.3"
  }
 },
 "nbformat": 4,
 "nbformat_minor": 2
}
