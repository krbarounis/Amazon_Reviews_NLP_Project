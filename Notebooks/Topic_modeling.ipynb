{
 "cells": [
  {
   "cell_type": "markdown",
   "metadata": {},
   "source": [
    "# Topic Modeling"
   ]
  },
  {
   "cell_type": "markdown",
   "metadata": {},
   "source": [
    "This notebook uses Python's Gensim library to perform unsupervised topic modeling on a corpus of Amazon electronic product reviews."
   ]
  },
  {
   "cell_type": "code",
   "execution_count": 122,
   "metadata": {},
   "outputs": [],
   "source": [
    "import pandas as pd\n",
    "import numpy as np\n",
    "import matplotlib.pyplot as plt\n",
    "from wordcloud import WordCloud\n",
    "import matplotlib.colors as mcolors\n",
    "from nltk.corpus import stopwords\n",
    "from collections import Counter\n",
    "from tqdm import tqdm\n",
    "import gensim\n",
    "import gensim.corpora as corpora\n",
    "from gensim.utils import simple_preprocess\n",
    "import pyLDAvis \n",
    "import pyLDAvis.gensim\n",
    "import matplotlib.pyplot as plt\n",
    "%matplotlib inline\n",
    "from gensim.models import CoherenceModel\n",
    "from sklearn.decomposition import LatentDirichletAllocation\n",
    "from sklearn.feature_extraction.text import TfidfVectorizer\n",
    "from sklearn.preprocessing import Normalizer\n",
    "from sklearn.model_selection import train_test_split"
   ]
  },
  {
   "cell_type": "code",
   "execution_count": 82,
   "metadata": {},
   "outputs": [],
   "source": [
    "# open csv and continue cleaning\n",
    "df = pd.read_csv('../final_df.csv')"
   ]
  },
  {
   "cell_type": "code",
   "execution_count": 85,
   "metadata": {},
   "outputs": [],
   "source": [
    "df = df.dropna()"
   ]
  },
  {
   "cell_type": "code",
   "execution_count": 88,
   "metadata": {
    "collapsed": true
   },
   "outputs": [
    {
     "name": "stderr",
     "output_type": "stream",
     "text": [
      "/Users/Kristinabarounis/anaconda3/lib/python3.7/site-packages/ipykernel_launcher.py:2: SettingWithCopyWarning: \n",
      "A value is trying to be set on a copy of a slice from a DataFrame.\n",
      "Try using .loc[row_indexer,col_indexer] = value instead\n",
      "\n",
      "See the caveats in the documentation: http://pandas.pydata.org/pandas-docs/stable/indexing.html#indexing-view-versus-copy\n",
      "  \n",
      "/Users/Kristinabarounis/anaconda3/lib/python3.7/site-packages/ipykernel_launcher.py:3: SettingWithCopyWarning: \n",
      "A value is trying to be set on a copy of a slice from a DataFrame.\n",
      "Try using .loc[row_indexer,col_indexer] = value instead\n",
      "\n",
      "See the caveats in the documentation: http://pandas.pydata.org/pandas-docs/stable/indexing.html#indexing-view-versus-copy\n",
      "  This is separate from the ipykernel package so we can avoid doing imports until\n"
     ]
    }
   ],
   "source": [
    "# ensure single digits and single letters are excluded from the vectorized corpus\n",
    "df['cleaned'] = df['cleaned'].replace(r'\\d+?', ' ', regex=True)\n",
    "df['cleaned'] = df['cleaned'].replace(r'\\s[a-z]\\s', ' ', regex=True)"
   ]
  },
  {
   "cell_type": "code",
   "execution_count": 89,
   "metadata": {},
   "outputs": [
    {
     "data": {
      "text/html": [
       "<div>\n",
       "<style scoped>\n",
       "    .dataframe tbody tr th:only-of-type {\n",
       "        vertical-align: middle;\n",
       "    }\n",
       "\n",
       "    .dataframe tbody tr th {\n",
       "        vertical-align: top;\n",
       "    }\n",
       "\n",
       "    .dataframe thead th {\n",
       "        text-align: right;\n",
       "    }\n",
       "</style>\n",
       "<table border=\"1\" class=\"dataframe\">\n",
       "  <thead>\n",
       "    <tr style=\"text-align: right;\">\n",
       "      <th></th>\n",
       "      <th>cleaned</th>\n",
       "      <th>overall</th>\n",
       "    </tr>\n",
       "  </thead>\n",
       "  <tbody>\n",
       "    <tr>\n",
       "      <th>0</th>\n",
       "      <td>professional otr truck driver buy tnd     truc...</td>\n",
       "      <td>1.0</td>\n",
       "    </tr>\n",
       "    <tr>\n",
       "      <th>1</th>\n",
       "      <td>mount work really well get go problem arm litt...</td>\n",
       "      <td>4.0</td>\n",
       "    </tr>\n",
       "    <tr>\n",
       "      <th>2</th>\n",
       "      <td>process turn master bedroom fortress solitude ...</td>\n",
       "      <td>5.0</td>\n",
       "    </tr>\n",
       "    <tr>\n",
       "      <th>3</th>\n",
       "      <td>give mount   star   start box mount wall reall...</td>\n",
       "      <td>3.0</td>\n",
       "    </tr>\n",
       "    <tr>\n",
       "      <th>4</th>\n",
       "      <td>buy mount       dell     monitor fit dell quit...</td>\n",
       "      <td>4.0</td>\n",
       "    </tr>\n",
       "  </tbody>\n",
       "</table>\n",
       "</div>"
      ],
      "text/plain": [
       "                                             cleaned  overall\n",
       "0  professional otr truck driver buy tnd     truc...      1.0\n",
       "1  mount work really well get go problem arm litt...      4.0\n",
       "2  process turn master bedroom fortress solitude ...      5.0\n",
       "3  give mount   star   start box mount wall reall...      3.0\n",
       "4  buy mount       dell     monitor fit dell quit...      4.0"
      ]
     },
     "execution_count": 89,
     "metadata": {},
     "output_type": "execute_result"
    }
   ],
   "source": [
    "df.head()"
   ]
  },
  {
   "cell_type": "code",
   "execution_count": 91,
   "metadata": {},
   "outputs": [
    {
     "name": "stderr",
     "output_type": "stream",
     "text": [
      "/Users/Kristinabarounis/anaconda3/lib/python3.7/site-packages/ipykernel_launcher.py:1: SettingWithCopyWarning: \n",
      "A value is trying to be set on a copy of a slice from a DataFrame.\n",
      "Try using .loc[row_indexer,col_indexer] = value instead\n",
      "\n",
      "See the caveats in the documentation: http://pandas.pydata.org/pandas-docs/stable/indexing.html#indexing-view-versus-copy\n",
      "  \"\"\"Entry point for launching an IPython kernel.\n"
     ]
    }
   ],
   "source": [
    "df['cleaned'] = [x.split() for x in df['cleaned']]"
   ]
  },
  {
   "cell_type": "code",
   "execution_count": 92,
   "metadata": {},
   "outputs": [
    {
     "data": {
      "text/html": [
       "<div>\n",
       "<style scoped>\n",
       "    .dataframe tbody tr th:only-of-type {\n",
       "        vertical-align: middle;\n",
       "    }\n",
       "\n",
       "    .dataframe tbody tr th {\n",
       "        vertical-align: top;\n",
       "    }\n",
       "\n",
       "    .dataframe thead th {\n",
       "        text-align: right;\n",
       "    }\n",
       "</style>\n",
       "<table border=\"1\" class=\"dataframe\">\n",
       "  <thead>\n",
       "    <tr style=\"text-align: right;\">\n",
       "      <th></th>\n",
       "      <th>cleaned</th>\n",
       "      <th>overall</th>\n",
       "    </tr>\n",
       "  </thead>\n",
       "  <tbody>\n",
       "    <tr>\n",
       "      <th>0</th>\n",
       "      <td>[professional, otr, truck, driver, buy, tnd, t...</td>\n",
       "      <td>1.0</td>\n",
       "    </tr>\n",
       "    <tr>\n",
       "      <th>1</th>\n",
       "      <td>[mount, work, really, well, get, go, problem, ...</td>\n",
       "      <td>4.0</td>\n",
       "    </tr>\n",
       "    <tr>\n",
       "      <th>2</th>\n",
       "      <td>[process, turn, master, bedroom, fortress, sol...</td>\n",
       "      <td>5.0</td>\n",
       "    </tr>\n",
       "    <tr>\n",
       "      <th>3</th>\n",
       "      <td>[give, mount, star, start, box, mount, wall, r...</td>\n",
       "      <td>3.0</td>\n",
       "    </tr>\n",
       "    <tr>\n",
       "      <th>4</th>\n",
       "      <td>[buy, mount, dell, monitor, fit, dell, quite, ...</td>\n",
       "      <td>4.0</td>\n",
       "    </tr>\n",
       "  </tbody>\n",
       "</table>\n",
       "</div>"
      ],
      "text/plain": [
       "                                             cleaned  overall\n",
       "0  [professional, otr, truck, driver, buy, tnd, t...      1.0\n",
       "1  [mount, work, really, well, get, go, problem, ...      4.0\n",
       "2  [process, turn, master, bedroom, fortress, sol...      5.0\n",
       "3  [give, mount, star, start, box, mount, wall, r...      3.0\n",
       "4  [buy, mount, dell, monitor, fit, dell, quite, ...      4.0"
      ]
     },
     "execution_count": 92,
     "metadata": {},
     "output_type": "execute_result"
    }
   ],
   "source": [
    "df.head()"
   ]
  },
  {
   "cell_type": "code",
   "execution_count": 93,
   "metadata": {},
   "outputs": [],
   "source": [
    "# split data into train and test set\n",
    "X = df[['cleaned']]\n",
    "y = df['overall']\n",
    "X_train, X_test, y_train, y_test = train_test_split(X, y, random_state = 42)"
   ]
  },
  {
   "cell_type": "markdown",
   "metadata": {},
   "source": [
    "# LDA"
   ]
  },
  {
   "cell_type": "code",
   "execution_count": 95,
   "metadata": {},
   "outputs": [],
   "source": [
    "# create dictionary\n",
    "dictionary = gensim.corpora.Dictionary(X_train['cleaned'])\n",
    "\n",
    "# create corpus - mapping of unique word id to word frequency in teh document\n",
    "bow_corpus = [dictionary.doc2bow(doc) for doc in X_train['cleaned']]"
   ]
  },
  {
   "cell_type": "code",
   "execution_count": 97,
   "metadata": {
    "scrolled": true
   },
   "outputs": [
    {
     "data": {
      "text/plain": [
       "[(0, 1),\n",
       " (1, 1),\n",
       " (2, 1),\n",
       " (3, 1),\n",
       " (4, 1),\n",
       " (5, 1),\n",
       " (6, 1),\n",
       " (7, 1),\n",
       " (8, 1),\n",
       " (9, 1),\n",
       " (10, 1),\n",
       " (11, 1),\n",
       " (12, 1),\n",
       " (13, 1),\n",
       " (14, 1),\n",
       " (15, 1),\n",
       " (16, 1),\n",
       " (17, 1),\n",
       " (18, 1),\n",
       " (19, 2),\n",
       " (20, 1),\n",
       " (21, 1),\n",
       " (22, 1),\n",
       " (23, 2),\n",
       " (24, 1),\n",
       " (25, 1),\n",
       " (26, 1),\n",
       " (27, 1),\n",
       " (28, 1)]"
      ]
     },
     "execution_count": 97,
     "metadata": {},
     "output_type": "execute_result"
    }
   ],
   "source": [
    "# e.g. (0,1) means word id 0 occurs once in first document\n",
    "bow_corpus[0]"
   ]
  },
  {
   "cell_type": "code",
   "execution_count": 99,
   "metadata": {},
   "outputs": [
    {
     "data": {
      "text/plain": [
       "[[('actually', 1),\n",
       "  ('annoyed', 1),\n",
       "  ('asus', 1),\n",
       "  ('break', 1),\n",
       "  ('computer', 1),\n",
       "  ('customer', 1),\n",
       "  ('first', 1),\n",
       "  ('last', 1),\n",
       "  ('long', 1),\n",
       "  ('make', 1),\n",
       "  ('need', 1),\n",
       "  ('needless', 1),\n",
       "  ('negotiable', 1),\n",
       "  ('nice', 1),\n",
       "  ('non', 1),\n",
       "  ('oh', 1),\n",
       "  ('pay', 1),\n",
       "  ('protest', 1),\n",
       "  ('return', 1),\n",
       "  ('say', 2),\n",
       "  ('service', 1),\n",
       "  ('shipping', 1),\n",
       "  ('thing', 1),\n",
       "  ('week', 2),\n",
       "  ('work', 1),\n",
       "  ('worse', 1),\n",
       "  ('would', 1),\n",
       "  ('yea', 1),\n",
       "  ('yet', 1)]]"
      ]
     },
     "execution_count": 99,
     "metadata": {},
     "output_type": "execute_result"
    }
   ],
   "source": [
    "# Human readable format of corpus (term-frequency)\n",
    "[[(dictionary[id], freq) for id, freq in cp] for cp in bow_corpus[:1]]"
   ]
  },
  {
   "cell_type": "code",
   "execution_count": 101,
   "metadata": {},
   "outputs": [],
   "source": [
    "# Build LDA Model - 10 different topics where each topic is a combo of keywords\n",
    "\n",
    "lda_model = gensim.models.ldamodel.LdaModel(corpus=bow_corpus,\n",
    "                                           id2word=dictionary,\n",
    "                                           num_topics=10, \n",
    "                                           random_state=100,\n",
    "                                           update_every=1,\n",
    "                                           chunksize=100,\n",
    "                                           passes=10,\n",
    "                                           alpha='auto',\n",
    "                                           per_word_topics=True)"
   ]
  },
  {
   "cell_type": "code",
   "execution_count": 103,
   "metadata": {},
   "outputs": [
    {
     "name": "stdout",
     "output_type": "stream",
     "text": [
      "[(0, '0.057*\"case\" + 0.029*\"fit\" + 0.021*\"ipad\" + 0.019*\"hold\" + 0.017*\"cover\" + 0.016*\"tablet\" + 0.015*\"mount\" + 0.013*\"plastic\" + 0.011*\"kindle\" + 0.010*\"cord\"'), (1, '0.117*\"battery\" + 0.099*\"drive\" + 0.076*\"usb\" + 0.069*\"charge\" + 0.030*\"charger\" + 0.028*\"port\" + 0.025*\"hard\" + 0.024*\"gb\" + 0.015*\"backup\" + 0.015*\"file\"'), (2, '0.030*\"work\" + 0.028*\"get\" + 0.025*\"one\" + 0.019*\"would\" + 0.018*\"use\" + 0.017*\"good\" + 0.016*\"buy\" + 0.016*\"well\" + 0.014*\"great\" + 0.014*\"time\"'), (3, '0.030*\"amazon\" + 0.028*\"return\" + 0.022*\"support\" + 0.022*\"update\" + 0.018*\"window\" + 0.016*\"new\" + 0.016*\"receive\" + 0.015*\"send\" + 0.014*\"service\" + 0.014*\"call\"'), (4, '0.062*\"cable\" + 0.045*\"tv\" + 0.036*\"card\" + 0.029*\"remote\" + 0.027*\"video\" + 0.018*\"monitor\" + 0.015*\"play\" + 0.014*\"hd\" + 0.014*\"hdmi\" + 0.014*\"app\"'), (5, '0.037*\"use\" + 0.017*\"also\" + 0.014*\"easy\" + 0.014*\"screen\" + 0.014*\"like\" + 0.013*\"light\" + 0.013*\"small\" + 0.013*\"nice\" + 0.012*\"make\" + 0.012*\"keyboard\"'), (6, '0.042*\"device\" + 0.036*\"unit\" + 0.028*\"computer\" + 0.022*\"power\" + 0.019*\"plug\" + 0.018*\"connect\" + 0.017*\"phone\" + 0.015*\"router\" + 0.015*\"adapter\" + 0.014*\"wireless\"'), (7, '0.085*\"lens\" + 0.050*\"image\" + 0.041*\"canon\" + 0.036*\"mm\" + 0.029*\"filter\" + 0.024*\"panasonic\" + 0.022*\"nikon\" + 0.020*\"lense\" + 0.019*\"blu\" + 0.018*\"sharp\"'), (8, '0.148*\"camera\" + 0.066*\"picture\" + 0.032*\"flash\" + 0.030*\"take\" + 0.028*\"experience\" + 0.026*\"mode\" + 0.024*\"photo\" + 0.022*\"record\" + 0.020*\"video\" + 0.019*\"digital\"'), (9, '0.071*\"sound\" + 0.036*\"speaker\" + 0.032*\"quality\" + 0.027*\"headphone\" + 0.025*\"ear\" + 0.025*\"player\" + 0.022*\"music\" + 0.017*\"volume\" + 0.015*\"audio\" + 0.014*\"high\"')]\n"
     ]
    }
   ],
   "source": [
    "# view the topics \n",
    "print(lda_model.print_topics())\n",
    "doc_lda = lda_model[bow_corpus]"
   ]
  },
  {
   "cell_type": "code",
   "execution_count": 117,
   "metadata": {},
   "outputs": [
    {
     "name": "stdout",
     "output_type": "stream",
     "text": [
      "\n",
      "Perplexity:  -7.910430158739765\n",
      "\n",
      "Coherence Score:  0.47367026464284684\n"
     ]
    }
   ],
   "source": [
    "print('\\nPerplexity: ', lda_model.log_perplexity(bow_corpus))  # a measure of how good the model is. lower the better.\n",
    "\n",
    "coherence_model_lda = CoherenceModel(model=lda_model, texts=X_train['cleaned'], dictionary=dictionary, coherence='c_v')\n",
    "coherence_lda = coherence_model_lda.get_coherence()\n",
    "print('\\nCoherence Score: ', coherence_lda)"
   ]
  },
  {
   "cell_type": "code",
   "execution_count": 108,
   "metadata": {},
   "outputs": [
    {
     "name": "stderr",
     "output_type": "stream",
     "text": [
      "/Users/Kristinabarounis/anaconda3/lib/python3.7/site-packages/pyLDAvis/_prepare.py:257: FutureWarning: Sorting because non-concatenation axis is not aligned. A future version\n",
      "of pandas will change to not sort by default.\n",
      "\n",
      "To accept the future behavior, pass 'sort=False'.\n",
      "\n",
      "To retain the current behavior and silence the warning, pass 'sort=True'.\n",
      "\n",
      "  return pd.concat([default_term_info] + list(topic_dfs))\n"
     ]
    },
    {
     "data": {
      "text/html": [
       "\n",
       "<link rel=\"stylesheet\" type=\"text/css\" href=\"https://cdn.rawgit.com/bmabey/pyLDAvis/files/ldavis.v1.0.0.css\">\n",
       "\n",
       "\n",
       "<div id=\"ldavis_el22961138787108166417168660\"></div>\n",
       "<script type=\"text/javascript\">\n",
       "\n",
       "var ldavis_el22961138787108166417168660_data = {\"mdsDat\": {\"x\": [0.264273323274874, 0.2513033045877858, 0.05421315067667061, 0.13141102727261697, 0.019804524704605538, -0.03927068617718395, -0.0729087011583189, -0.17602859820158723, -0.20190280920246834, -0.23089453577699412], \"y\": [0.014872659597747851, -0.08141299391552181, 0.17853476017912498, -0.25623756201651654, 0.21682546107030523, -0.07861211836636872, 0.22573907834105006, 0.02948483858565312, -0.0947823527970968, -0.15441177067837794], \"topics\": [1, 2, 3, 4, 5, 6, 7, 8, 9, 10], \"cluster\": [1, 1, 1, 1, 1, 1, 1, 1, 1, 1], \"Freq\": [38.29483413696289, 17.29548454284668, 8.99770450592041, 7.892224311828613, 6.9310760498046875, 6.162796497344971, 6.080089569091797, 3.3006582260131836, 3.230458974838257, 1.8146767616271973]}, \"tinfo\": {\"Category\": [\"Default\", \"Default\", \"Default\", \"Default\", \"Default\", \"Default\", \"Default\", \"Default\", \"Default\", \"Default\", \"Default\", \"Default\", \"Default\", \"Default\", \"Default\", \"Default\", \"Default\", \"Default\", \"Default\", \"Default\", \"Default\", \"Default\", \"Default\", \"Default\", \"Default\", \"Default\", \"Default\", \"Default\", \"Default\", \"Default\", \"Topic1\", \"Topic1\", \"Topic1\", \"Topic1\", \"Topic1\", \"Topic1\", \"Topic1\", \"Topic1\", \"Topic1\", \"Topic1\", \"Topic1\", \"Topic1\", \"Topic1\", \"Topic1\", \"Topic1\", \"Topic1\", \"Topic1\", \"Topic1\", \"Topic1\", \"Topic1\", \"Topic1\", \"Topic1\", \"Topic1\", \"Topic1\", \"Topic1\", \"Topic1\", \"Topic1\", \"Topic1\", \"Topic1\", \"Topic1\", \"Topic1\", \"Topic1\", \"Topic1\", \"Topic1\", \"Topic1\", \"Topic1\", \"Topic1\", \"Topic1\", \"Topic1\", \"Topic1\", \"Topic1\", \"Topic1\", \"Topic1\", \"Topic1\", \"Topic1\", \"Topic1\", \"Topic1\", \"Topic1\", \"Topic1\", \"Topic1\", \"Topic1\", \"Topic1\", \"Topic2\", \"Topic2\", \"Topic2\", \"Topic2\", \"Topic2\", \"Topic2\", \"Topic2\", \"Topic2\", \"Topic2\", \"Topic2\", \"Topic2\", \"Topic2\", \"Topic2\", \"Topic2\", \"Topic2\", \"Topic2\", \"Topic2\", \"Topic2\", \"Topic2\", \"Topic2\", \"Topic2\", \"Topic2\", \"Topic2\", \"Topic2\", \"Topic2\", \"Topic2\", \"Topic2\", \"Topic2\", \"Topic2\", \"Topic2\", \"Topic2\", \"Topic2\", \"Topic2\", \"Topic2\", \"Topic2\", \"Topic2\", \"Topic2\", \"Topic2\", \"Topic2\", \"Topic2\", \"Topic2\", \"Topic2\", \"Topic2\", \"Topic2\", \"Topic2\", \"Topic2\", \"Topic2\", \"Topic2\", \"Topic2\", \"Topic2\", \"Topic2\", \"Topic2\", \"Topic2\", \"Topic2\", \"Topic2\", \"Topic2\", \"Topic2\", \"Topic3\", \"Topic3\", \"Topic3\", \"Topic3\", \"Topic3\", \"Topic3\", \"Topic3\", \"Topic3\", \"Topic3\", \"Topic3\", \"Topic3\", \"Topic3\", \"Topic3\", \"Topic3\", \"Topic3\", \"Topic3\", \"Topic3\", \"Topic3\", \"Topic3\", \"Topic3\", \"Topic3\", \"Topic3\", \"Topic3\", \"Topic3\", \"Topic3\", \"Topic3\", \"Topic3\", \"Topic3\", \"Topic3\", \"Topic3\", \"Topic3\", \"Topic3\", \"Topic3\", \"Topic3\", \"Topic3\", \"Topic3\", \"Topic3\", \"Topic3\", \"Topic3\", \"Topic3\", \"Topic3\", \"Topic3\", \"Topic3\", \"Topic3\", \"Topic3\", \"Topic3\", \"Topic3\", \"Topic4\", \"Topic4\", \"Topic4\", \"Topic4\", \"Topic4\", \"Topic4\", \"Topic4\", \"Topic4\", \"Topic4\", \"Topic4\", \"Topic4\", \"Topic4\", \"Topic4\", \"Topic4\", \"Topic4\", \"Topic4\", \"Topic4\", \"Topic4\", \"Topic4\", \"Topic4\", \"Topic4\", \"Topic4\", \"Topic4\", \"Topic4\", \"Topic4\", \"Topic4\", \"Topic4\", \"Topic4\", \"Topic4\", \"Topic4\", \"Topic4\", \"Topic4\", \"Topic4\", \"Topic4\", \"Topic4\", \"Topic4\", \"Topic4\", \"Topic4\", \"Topic4\", \"Topic4\", \"Topic4\", \"Topic4\", \"Topic4\", \"Topic5\", \"Topic5\", \"Topic5\", \"Topic5\", \"Topic5\", \"Topic5\", \"Topic5\", \"Topic5\", \"Topic5\", \"Topic5\", \"Topic5\", \"Topic5\", \"Topic5\", \"Topic5\", \"Topic5\", \"Topic5\", \"Topic5\", \"Topic5\", \"Topic5\", \"Topic5\", \"Topic5\", \"Topic5\", \"Topic5\", \"Topic5\", \"Topic5\", \"Topic5\", \"Topic5\", \"Topic5\", \"Topic5\", \"Topic5\", \"Topic5\", \"Topic5\", \"Topic5\", \"Topic5\", \"Topic5\", \"Topic5\", \"Topic5\", \"Topic5\", \"Topic5\", \"Topic5\", \"Topic5\", \"Topic5\", \"Topic5\", \"Topic5\", \"Topic5\", \"Topic6\", \"Topic6\", \"Topic6\", \"Topic6\", \"Topic6\", \"Topic6\", \"Topic6\", \"Topic6\", \"Topic6\", \"Topic6\", \"Topic6\", \"Topic6\", \"Topic6\", \"Topic6\", \"Topic6\", \"Topic6\", \"Topic6\", \"Topic6\", \"Topic6\", \"Topic6\", \"Topic6\", \"Topic6\", \"Topic6\", \"Topic6\", \"Topic6\", \"Topic6\", \"Topic6\", \"Topic6\", \"Topic6\", \"Topic6\", \"Topic6\", \"Topic6\", \"Topic6\", \"Topic6\", \"Topic6\", \"Topic6\", \"Topic6\", \"Topic6\", \"Topic6\", \"Topic6\", \"Topic6\", \"Topic6\", \"Topic6\", \"Topic6\", \"Topic6\", \"Topic7\", \"Topic7\", \"Topic7\", \"Topic7\", \"Topic7\", \"Topic7\", \"Topic7\", \"Topic7\", \"Topic7\", \"Topic7\", \"Topic7\", \"Topic7\", \"Topic7\", \"Topic7\", \"Topic7\", \"Topic7\", \"Topic7\", \"Topic7\", \"Topic7\", \"Topic7\", \"Topic7\", \"Topic7\", \"Topic7\", \"Topic7\", \"Topic7\", \"Topic7\", \"Topic7\", \"Topic7\", \"Topic7\", \"Topic7\", \"Topic7\", \"Topic7\", \"Topic7\", \"Topic7\", \"Topic7\", \"Topic7\", \"Topic7\", \"Topic7\", \"Topic7\", \"Topic7\", \"Topic8\", \"Topic8\", \"Topic8\", \"Topic8\", \"Topic8\", \"Topic8\", \"Topic8\", \"Topic8\", \"Topic8\", \"Topic8\", \"Topic8\", \"Topic8\", \"Topic8\", \"Topic8\", \"Topic8\", \"Topic8\", \"Topic8\", \"Topic8\", \"Topic8\", \"Topic8\", \"Topic8\", \"Topic8\", \"Topic8\", \"Topic8\", \"Topic8\", \"Topic8\", \"Topic8\", \"Topic8\", \"Topic8\", \"Topic8\", \"Topic8\", \"Topic8\", \"Topic8\", \"Topic8\", \"Topic8\", \"Topic8\", \"Topic8\", \"Topic8\", \"Topic8\", \"Topic8\", \"Topic8\", \"Topic9\", \"Topic9\", \"Topic9\", \"Topic9\", \"Topic9\", \"Topic9\", \"Topic9\", \"Topic9\", \"Topic9\", \"Topic9\", \"Topic9\", \"Topic9\", \"Topic9\", \"Topic9\", \"Topic9\", \"Topic9\", \"Topic9\", \"Topic9\", \"Topic9\", \"Topic9\", \"Topic9\", \"Topic9\", \"Topic9\", \"Topic9\", \"Topic9\", \"Topic9\", \"Topic9\", \"Topic9\", \"Topic9\", \"Topic9\", \"Topic9\", \"Topic9\", \"Topic9\", \"Topic9\", \"Topic9\", \"Topic9\", \"Topic9\", \"Topic9\", \"Topic9\", \"Topic9\", \"Topic10\", \"Topic10\", \"Topic10\", \"Topic10\", \"Topic10\", \"Topic10\", \"Topic10\", \"Topic10\", \"Topic10\", \"Topic10\", \"Topic10\", \"Topic10\", \"Topic10\", \"Topic10\", \"Topic10\", \"Topic10\", \"Topic10\", \"Topic10\", \"Topic10\", \"Topic10\", \"Topic10\", \"Topic10\", \"Topic10\", \"Topic10\", \"Topic10\", \"Topic10\", \"Topic10\", \"Topic10\", \"Topic10\", \"Topic10\", \"Topic10\", \"Topic10\", \"Topic10\"], \"Freq\": [11593.0, 9397.0, 10634.0, 10941.0, 7928.0, 32534.0, 9176.0, 26084.0, 9405.0, 27954.0, 23640.0, 9180.0, 6090.0, 7917.0, 9520.0, 5499.0, 17818.0, 6631.0, 5171.0, 17767.0, 3762.0, 5383.0, 5314.0, 15277.0, 6702.0, 5472.0, 5093.0, 5654.0, 5080.0, 6025.0, 26083.328125, 23639.09375, 17766.419921875, 15276.4091796875, 12919.7607421875, 9219.7197265625, 8196.830078125, 7059.048828125, 6888.66943359375, 6355.41796875, 5917.703125, 5566.08251953125, 4805.4404296875, 4721.0107421875, 4681.4677734375, 4356.96875, 4204.03271484375, 3910.62646484375, 3814.3564453125, 3693.103759765625, 3473.521728515625, 3454.690673828125, 3369.529296875, 3302.0126953125, 3230.761962890625, 6141.80078125, 2417.576416015625, 2361.78466796875, 2351.763427734375, 2261.827880859375, 12544.2314453125, 27496.671875, 12761.220703125, 5504.2275390625, 7965.44140625, 7275.515625, 4471.4912109375, 15177.060546875, 7286.626953125, 8960.1953125, 15961.576171875, 7716.12060546875, 9677.068359375, 5784.0654296875, 8036.365234375, 16945.224609375, 6055.89208984375, 10070.7666015625, 7043.96484375, 6663.7685546875, 6958.8349609375, 6416.6181640625, 5335.39013671875, 4996.09619140625, 4625.24853515625, 3255.847900390625, 3039.264404296875, 2968.01171875, 2619.222900390625, 2594.082763671875, 2480.72802734375, 2262.963623046875, 2218.718994140625, 1948.462890625, 1776.784912109375, 1339.0272216796875, 1290.5943603515625, 1259.2293701171875, 1246.8338623046875, 1240.227783203125, 1229.412109375, 1194.993408203125, 1192.990478515625, 1145.9560546875, 1131.8363037109375, 1119.0592041015625, 1076.720947265625, 1040.7872314453125, 1022.5950927734375, 1004.9934692382812, 969.6873168945312, 931.628662109375, 3881.998291015625, 2760.542236328125, 5403.84326171875, 3897.873046875, 6051.85009765625, 5311.138671875, 3000.214111328125, 1208.0081787109375, 2170.667236328125, 7052.90673828125, 2420.5185546875, 6003.935546875, 2095.337890625, 1550.61572265625, 3471.375, 15521.486328125, 3524.863525390625, 2235.2705078125, 3162.0634765625, 3968.051025390625, 3171.886962890625, 5218.65966796875, 5965.31396484375, 3516.933349609375, 3303.27685546875, 2428.30322265625, 2862.811767578125, 9179.7822265625, 7916.52734375, 3359.19287109375, 3339.306396484375, 2954.858154296875, 2773.71142578125, 2588.100830078125, 2588.46142578125, 2452.271240234375, 2154.7861328125, 1383.2791748046875, 1380.4176025390625, 1354.088623046875, 1324.3853759765625, 1045.6162109375, 1036.05029296875, 1022.7286376953125, 1008.0084228515625, 992.4380493164062, 936.9754638671875, 861.9337768554688, 848.3822021484375, 838.3204345703125, 778.1907958984375, 770.1290283203125, 751.2958984375, 742.305908203125, 738.9631958007812, 698.4765625, 697.399658203125, 3976.077392578125, 6165.35107421875, 4058.63525390625, 1542.5948486328125, 4880.546875, 1508.277099609375, 3603.650146484375, 1402.0003662109375, 2122.8935546875, 1747.040771484375, 1644.54345703125, 1155.01806640625, 1281.912841796875, 2457.463623046875, 1388.5439453125, 1582.44873046875, 1262.404296875, 10940.087890625, 5471.41845703125, 4003.5576171875, 3638.803955078125, 3343.531005859375, 3041.6201171875, 2959.84814453125, 2443.588134765625, 2107.669189453125, 1912.2264404296875, 1894.7313232421875, 1787.4620361328125, 1782.268310546875, 1507.947998046875, 1497.7608642578125, 1454.437255859375, 1242.4920654296875, 1200.6314697265625, 1184.2620849609375, 1109.4591064453125, 1069.58935546875, 1034.0750732421875, 1025.947265625, 957.5316162109375, 929.991455078125, 877.6727905273438, 856.68505859375, 853.1470947265625, 836.874267578125, 751.6481323242188, 1465.0325927734375, 1702.46044921875, 1456.099365234375, 1981.9554443359375, 1112.77099609375, 1149.067138671875, 1659.8341064453125, 1149.8155517578125, 1801.258056640625, 1352.1553955078125, 1262.4830322265625, 1263.241455078125, 1155.9730224609375, 5092.859375, 2688.9453125, 2445.06494140625, 2347.026123046875, 2341.433349609375, 2330.221435546875, 2289.90771484375, 2224.91259765625, 2206.222900390625, 2032.8525390625, 1849.5716552734375, 1646.1314697265625, 1529.642822265625, 1450.5235595703125, 1341.6058349609375, 1327.26904296875, 1282.2713623046875, 1181.18994140625, 1166.105224609375, 1037.9027099609375, 1012.4229125976562, 1011.5307006835938, 945.1401977539062, 940.3870239257812, 928.7952880859375, 829.463623046875, 817.0631103515625, 790.90576171875, 763.8336791992188, 727.2652587890625, 969.3363037109375, 2974.768798828125, 3779.27197265625, 4673.79150390625, 3739.991455078125, 1746.7652587890625, 1447.9925537109375, 1041.6083984375, 2310.58544921875, 2703.268798828125, 1522.1578369140625, 1254.8582763671875, 2268.2265625, 1224.5889892578125, 1190.491943359375, 10633.5908203125, 5313.80908203125, 4020.082763671875, 3774.294677734375, 3674.6806640625, 3268.061279296875, 2515.967529296875, 2070.37548828125, 2050.5361328125, 1898.82177734375, 1889.55224609375, 1806.4056396484375, 1764.4735107421875, 1087.39013671875, 1037.3935546875, 986.6957397460938, 938.1655883789062, 865.1778564453125, 771.1907958984375, 705.785400390625, 628.57421875, 611.6021728515625, 601.276611328125, 573.979736328125, 557.64501953125, 531.9244995117188, 504.37188720703125, 469.4070739746094, 444.6957702636719, 428.2836608886719, 2114.457275390625, 2197.589111328125, 1033.3199462890625, 4819.05615234375, 1486.311279296875, 2130.951416015625, 1579.24853515625, 1755.799072265625, 912.3150024414062, 1218.2869873046875, 1396.9765625, 1238.07763671875, 1855.771240234375, 1327.06640625, 1005.0558471679688, 9175.173828125, 6630.8701171875, 5382.9375, 4312.5810546875, 2610.592529296875, 2131.070068359375, 2010.883056640625, 1992.49072265625, 1931.57666015625, 1878.739990234375, 1848.1239013671875, 1745.900634765625, 1389.077392578125, 1319.737060546875, 1290.144775390625, 1286.2442626953125, 1261.8018798828125, 1077.04931640625, 1007.8167114257812, 1002.94287109375, 1000.4960327148438, 986.5504150390625, 851.370361328125, 722.453857421875, 713.4893188476562, 645.1077880859375, 583.3216552734375, 581.4910888671875, 563.5555419921875, 538.1594848632812, 946.1221313476562, 4047.908447265625, 1708.255615234375, 1349.5123291015625, 2149.764404296875, 1587.5789794921875, 1673.2081298828125, 1212.79833984375, 1508.23291015625, 1308.11865234375, 9396.2060546875, 7927.59423828125, 6089.47509765625, 5498.4248046875, 2408.010498046875, 1910.8941650390625, 1195.0125732421875, 933.87158203125, 922.0205078125, 803.2908935546875, 736.5582275390625, 721.6739501953125, 710.8319702148438, 665.8612060546875, 571.3514404296875, 502.4608154296875, 500.765869140625, 442.6304016113281, 405.3350830078125, 389.287109375, 386.3508605957031, 371.92108154296875, 367.8404235839844, 355.7783203125, 338.3547058105469, 309.7090148925781, 304.2177429199219, 299.1961364746094, 296.1327819824219, 293.4775085449219, 2206.449951171875, 537.7840576171875, 1966.294677734375, 1186.3951416015625, 794.92138671875, 664.14208984375, 1143.8319091796875, 908.5211181640625, 691.7705078125, 522.5346069335938, 475.26470947265625, 11592.5380859375, 2214.570556640625, 2038.95458984375, 1894.67333984375, 1701.4931640625, 1447.3065185546875, 1267.2470703125, 1258.2432861328125, 1114.236328125, 916.2793579101562, 763.9742431640625, 655.7265625, 653.3247680664062, 640.4285278320312, 621.2927856445312, 571.2471923828125, 555.3673095703125, 545.3751220703125, 516.90234375, 459.5248718261719, 453.7193908691406, 443.5535888671875, 434.558349609375, 430.8545837402344, 377.83612060546875, 5157.02734375, 329.2206726074219, 327.28656005859375, 321.0350646972656, 300.4537353515625, 2527.010498046875, 1457.7314453125, 1027.9278564453125, 629.784912109375, 1136.517333984375, 2360.863037109375, 1605.5206298828125, 1020.8941650390625, 650.0469970703125, 491.66888427734375, 3761.9970703125, 2216.379638671875, 1790.29638671875, 1603.1279296875, 1270.01953125, 1072.492919921875, 954.3387451171875, 868.127685546875, 827.6868286132812, 799.9428100585938, 723.8905029296875, 708.7367553710938, 668.701416015625, 626.4255981445312, 619.1145629882812, 449.10076904296875, 439.4586486816406, 415.45330810546875, 406.5546569824219, 400.2676696777344, 381.9888916015625, 381.5946960449219, 332.05712890625, 299.9566650390625, 274.2637939453125, 263.01397705078125, 259.09136962890625, 257.88739013671875, 255.74502563476562, 252.23025512695312, 395.32427978515625, 425.0037536621094, 334.81695556640625], \"Term\": [\"camera\", \"battery\", \"sound\", \"case\", \"drive\", \"use\", \"cable\", \"get\", \"take\", \"work\", \"one\", \"device\", \"usb\", \"unit\", \"quality\", \"charge\", \"good\", \"tv\", \"picture\", \"would\", \"lens\", \"card\", \"speaker\", \"buy\", \"computer\", \"fit\", \"amazon\", \"video\", \"return\", \"power\", \"get\", \"one\", \"would\", \"buy\", \"great\", \"even\", \"thing\", \"still\", \"give\", \"first\", \"think\", \"year\", \"bad\", \"fine\", \"star\", \"something\", \"recommend\", \"month\", \"sure\", \"far\", \"expect\", \"last\", \"mouse\", \"money\", \"different\", \"review\", \"happy\", \"worth\", \"anything\", \"stop\", \"go\", \"work\", \"time\", \"know\", \"come\", \"could\", \"since\", \"well\", \"say\", \"try\", \"good\", \"price\", \"product\", \"seem\", \"want\", \"use\", \"see\", \"like\", \"take\", \"really\", \"need\", \"make\", \"small\", \"keyboard\", \"button\", \"size\", \"key\", \"ipod\", \"large\", \"move\", \"watch\", \"touch\", \"mean\", \"type\", \"color\", \"anyone\", \"connector\", \"weight\", \"press\", \"solid\", \"blue\", \"con\", \"cool\", \"bright\", \"quick\", \"tripod\", \"handle\", \"push\", \"purpose\", \"tape\", \"fairly\", \"sturdy\", \"bit\", \"pro\", \"light\", \"big\", \"easy\", \"nice\", \"build\", \"lead\", \"quite\", \"also\", \"overall\", \"screen\", \"function\", \"definitely\", \"enough\", \"use\", \"feel\", \"leave\", \"feature\", \"little\", \"laptop\", \"make\", \"like\", \"much\", \"look\", \"design\", \"need\", \"device\", \"unit\", \"router\", \"adapter\", \"wireless\", \"connection\", \"radio\", \"speed\", \"signal\", \"network\", \"gps\", \"house\", \"wifi\", \"firmware\", \"hp\", \"supply\", \"station\", \"trip\", \"datum\", \"xbox\", \"link\", \"shut\", \"reset\", \"reboot\", \"jack\", \"netgear\", \"server\", \"outlet\", \"unplug\", \"eventually\", \"connect\", \"computer\", \"plug\", \"car\", \"power\", \"access\", \"phone\", \"internet\", \"home\", \"switch\", \"setup\", \"transfer\", \"iphone\", \"set\", \"range\", \"run\", \"minute\", \"case\", \"fit\", \"ipad\", \"hold\", \"cover\", \"tablet\", \"mount\", \"plastic\", \"kindle\", \"stand\", \"protector\", \"bag\", \"fan\", \"fall\", \"screw\", \"inside\", \"protect\", \"angle\", \"air\", \"clean\", \"thin\", \"clip\", \"strap\", \"outside\", \"fire\", \"protection\", \"scratch\", \"rubber\", \"corner\", \"soft\", \"inch\", \"front\", \"carry\", \"cord\", \"attach\", \"heavy\", \"place\", \"remove\", \"screen\", \"put\", \"side\", \"feel\", \"open\", \"amazon\", \"receive\", \"send\", \"service\", \"call\", \"instal\", \"not\", \"install\", \"replacement\", \"driver\", \"customer\", \"antenna\", \"warranty\", \"company\", \"contact\", \"ship\", \"asus\", \"machine\", \"garmin\", \"website\", \"site\", \"hardware\", \"recognize\", \"email\", \"ask\", \"installation\", \"map\", \"refund\", \"roku\", \"boot\", \"error\", \"window\", \"support\", \"return\", \"update\", \"fix\", \"fail\", \"arrive\", \"software\", \"new\", \"tell\", \"number\", \"problem\", \"system\", \"issue\", \"sound\", \"speaker\", \"headphone\", \"ear\", \"player\", \"music\", \"volume\", \"pair\", \"dvd\", \"noise\", \"bass\", \"listen\", \"life\", \"loud\", \"output\", \"song\", \"lcd\", \"bud\", \"earbud\", \"alarm\", \"sub\", \"dead\", \"bose\", \"subwoofer\", \"mid\", \"serve\", \"sleep\", \"fantastic\", \"adequate\", \"crisp\", \"hear\", \"audio\", \"mp\", \"quality\", \"bluetooth\", \"high\", \"control\", \"play\", \"comfortable\", \"sony\", \"system\", \"low\", \"good\", \"set\", \"cord\", \"cable\", \"tv\", \"card\", \"remote\", \"monitor\", \"hd\", \"hdmi\", \"app\", \"channel\", \"samsung\", \"receiver\", \"movie\", \"program\", \"ps\", \"stream\", \"external\", \"sd\", \"format\", \"netflix\", \"menu\", \"ray\", \"resolution\", \"dock\", \"component\", \"amp\", \"reader\", \"hub\", \"freeze\", \"share\", \"security\", \"input\", \"video\", \"pc\", \"game\", \"play\", \"file\", \"box\", \"display\", \"system\", \"software\", \"battery\", \"drive\", \"usb\", \"charge\", \"charger\", \"gb\", \"backup\", \"mb\", \"disk\", \"storage\", \"capacity\", \"google\", \"tb\", \"os\", \"wd\", \"stock\", \"seagate\", \"be\", \"sandisk\", \"aa\", \"recharge\", \"portrait\", \"ssd\", \"netbook\", \"touchpad\", \"hdd\", \"flexible\", \"anker\", \"strength\", \"cm\", \"port\", \"copy\", \"hard\", \"file\", \"mac\", \"pack\", \"power\", \"laptop\", \"fast\", \"hour\", \"plug\", \"camera\", \"experience\", \"mode\", \"photo\", \"record\", \"download\", \"pocket\", \"frame\", \"zoom\", \"edge\", \"kit\", \"content\", \"lg\", \"compact\", \"dust\", \"recording\", \"burn\", \"zipper\", \"cancel\", \"motion\", \"class\", \"professional\", \"up\", \"deep\", \"per\", \"picture\", \"anti\", \"downside\", \"bunch\", \"tivo\", \"flash\", \"digital\", \"memory\", \"wide\", \"sony\", \"take\", \"video\", \"quality\", \"low\", \"setting\", \"lens\", \"image\", \"canon\", \"mm\", \"filter\", \"panasonic\", \"nikon\", \"lense\", \"blu\", \"sharp\", \"single\", \"near\", \"fm\", \"optical\", \"sensor\", \"hood\", \"dslr\", \"meet\", \"camcorder\", \"indoor\", \"chromecast\", \"bedroom\", \"len\", \"unusable\", \"sensitive\", \"tube\", \"baby\", \"aperture\", \"impressive\", \"sigma\", \"body\", \"cap\", \"digital\"], \"Total\": [11593.0, 9397.0, 10634.0, 10941.0, 7928.0, 32534.0, 9176.0, 26084.0, 9405.0, 27954.0, 23640.0, 9180.0, 6090.0, 7917.0, 9520.0, 5499.0, 17818.0, 6631.0, 5171.0, 17767.0, 3762.0, 5383.0, 5314.0, 15277.0, 6702.0, 5472.0, 5093.0, 5654.0, 5080.0, 6025.0, 26084.306640625, 23640.072265625, 17767.3984375, 15277.3876953125, 12920.7392578125, 9220.6982421875, 8197.80859375, 7060.02734375, 6889.64794921875, 6356.396484375, 5918.681640625, 5567.06103515625, 4806.4189453125, 4721.9892578125, 4682.4462890625, 4357.947265625, 4205.01123046875, 3911.60498046875, 3815.3349609375, 3694.082275390625, 3474.500244140625, 3455.669189453125, 3370.5078125, 3302.9912109375, 3231.740478515625, 6143.9697265625, 2418.554931640625, 2362.76318359375, 2352.741943359375, 2262.806396484375, 12557.234375, 27954.34375, 13035.140625, 5569.0634765625, 8163.22314453125, 7443.88623046875, 4527.16455078125, 16580.78125, 7641.00439453125, 9556.8837890625, 17818.216796875, 8164.1787109375, 10473.349609375, 6173.3662109375, 9232.302734375, 32534.908203125, 7084.68505859375, 16426.486328125, 9405.693359375, 9019.056640625, 10239.1220703125, 12752.119140625, 5336.3681640625, 4997.07373046875, 4626.22607421875, 3256.82568359375, 3040.2421875, 2968.989501953125, 2620.20068359375, 2595.060791015625, 2481.7060546875, 2263.94140625, 2219.697021484375, 1949.4407958984375, 1777.762939453125, 1340.0052490234375, 1291.572265625, 1260.2071533203125, 1247.8116455078125, 1241.2056884765625, 1230.3900146484375, 1195.9713134765625, 1193.96826171875, 1146.9339599609375, 1132.8143310546875, 1120.0372314453125, 1077.6988525390625, 1041.7650146484375, 1023.5730590820312, 1005.9713745117188, 970.6652221679688, 932.6065063476562, 3909.375732421875, 2780.701171875, 5591.72412109375, 4028.770263671875, 6343.79638671875, 5545.0263671875, 3114.0771484375, 1213.45263671875, 2363.678466796875, 9096.9306640625, 2687.2275390625, 7806.068359375, 2296.370361328125, 1621.80322265625, 4368.05908203125, 32534.908203125, 4788.97998046875, 2640.22900390625, 4317.9443359375, 6245.97705078125, 4696.931640625, 12752.119140625, 16426.486328125, 7941.751953125, 10155.8515625, 3506.3388671875, 10239.1220703125, 9180.755859375, 7917.501953125, 3360.167236328125, 3340.281005859375, 2955.83251953125, 2774.685791015625, 2589.075439453125, 2589.43603515625, 2453.24560546875, 2155.760498046875, 1384.253662109375, 1381.3922119140625, 1355.063232421875, 1325.3599853515625, 1046.5909423828125, 1037.0247802734375, 1023.7032470703125, 1008.983154296875, 993.4126586914062, 937.9503173828125, 862.9083862304688, 849.35693359375, 839.2950439453125, 779.1654052734375, 771.1036376953125, 752.2703857421875, 743.280517578125, 739.937744140625, 699.451171875, 698.374267578125, 4087.801025390625, 6702.9296875, 4534.77197265625, 1635.716552734375, 6025.2509765625, 1698.2933349609375, 4817.34130859375, 1572.0703125, 2697.466796875, 2193.49609375, 2056.6845703125, 1273.267333984375, 1607.752685546875, 6788.18310546875, 2299.212890625, 4450.9658203125, 2396.21875, 10941.072265625, 5472.40380859375, 4004.542724609375, 3639.7890625, 3344.51611328125, 3042.605224609375, 2960.833251953125, 2444.5732421875, 2108.654296875, 1913.21142578125, 1895.7161865234375, 1788.447021484375, 1783.25341796875, 1508.9329833984375, 1498.7459716796875, 1455.4222412109375, 1243.4769287109375, 1201.61669921875, 1185.2474365234375, 1110.4443359375, 1070.5743408203125, 1035.0601806640625, 1026.93212890625, 958.516845703125, 930.9765625, 878.6578369140625, 857.670166015625, 854.1321411132812, 837.8594360351562, 752.6332397460938, 1507.80810546875, 2033.282958984375, 1749.98388671875, 2987.888427734375, 1270.12060546875, 1389.309814453125, 2822.526611328125, 1500.8729248046875, 7806.068359375, 4411.76025390625, 3151.18408203125, 4788.97998046875, 2143.1767578125, 5093.8388671875, 2689.924560546875, 2446.044189453125, 2348.005126953125, 2342.41259765625, 2331.20068359375, 2290.886962890625, 2225.891845703125, 2207.2119140625, 2033.831787109375, 1850.55078125, 1647.110595703125, 1530.6219482421875, 1451.502685546875, 1342.5849609375, 1328.2481689453125, 1283.2506103515625, 1182.1768798828125, 1167.084228515625, 1038.8818359375, 1013.402099609375, 1012.5098876953125, 946.119384765625, 941.3662109375, 929.7745361328125, 830.44287109375, 818.0422973632812, 791.8849487304688, 764.8128662109375, 728.2444458007812, 971.1640014648438, 3035.601318359375, 3877.91064453125, 5080.92333984375, 4286.904296875, 1963.796630859375, 1734.1334228515625, 1088.608154296875, 3619.57080078125, 6796.17626953125, 2453.577880859375, 1631.646484375, 8731.08984375, 4130.55712890625, 5869.38525390625, 10634.5693359375, 5314.78857421875, 4021.0625, 3775.2744140625, 3675.660400390625, 3269.041015625, 2516.947265625, 2071.355224609375, 2051.515869140625, 1899.8013916015625, 1890.5318603515625, 1807.38525390625, 1765.4534912109375, 1088.3697509765625, 1038.37353515625, 987.6754760742188, 939.1455688476562, 866.1575317382812, 772.1704711914062, 706.7652587890625, 629.553955078125, 612.58203125, 602.2562255859375, 574.9594116210938, 558.624755859375, 532.9046630859375, 505.3517761230469, 470.3871154785156, 445.6758117675781, 429.2635192871094, 2135.856689453125, 2775.48974609375, 1185.9390869140625, 9520.681640625, 2088.162841796875, 4580.7861328125, 3032.73046875, 3906.4306640625, 1332.0133056640625, 2355.670654296875, 4130.55712890625, 3585.936279296875, 17818.216796875, 6788.18310546875, 2987.888427734375, 9176.1484375, 6631.8447265625, 5383.912109375, 4313.55615234375, 2611.567626953125, 2132.04541015625, 2011.8580322265625, 1993.4658203125, 1932.5517578125, 1879.715087890625, 1849.0989990234375, 1746.875732421875, 1390.052490234375, 1320.712158203125, 1291.119873046875, 1287.219482421875, 1262.777099609375, 1078.0244140625, 1008.7918090820312, 1003.9180297851562, 1001.4711303710938, 987.525634765625, 852.3455810546875, 723.4290161132812, 714.4645385742188, 646.0829467773438, 584.2967529296875, 582.46630859375, 564.5307006835938, 539.1346435546875, 1006.5223999023438, 5654.291015625, 2212.83544921875, 1689.986083984375, 3906.4306640625, 2774.84716796875, 3907.4013671875, 2165.591796875, 4130.55712890625, 3619.57080078125, 9397.19140625, 7928.57958984375, 6090.46044921875, 5499.41015625, 2408.99609375, 1911.8797607421875, 1195.9981689453125, 934.8572998046875, 923.0062255859375, 804.2766723632812, 737.5438842773438, 722.6602783203125, 711.8175659179688, 666.846923828125, 572.3370971679688, 503.4467468261719, 501.7514343261719, 443.61627197265625, 406.32073974609375, 390.27276611328125, 387.3365173339844, 372.9075012207031, 368.8260192871094, 356.7639465332031, 339.3404541015625, 310.69464111328125, 305.2036437988281, 300.1822204589844, 297.11865234375, 294.46331787109375, 3137.453369140625, 710.6804809570312, 4852.53125, 2774.84716796875, 1607.3863525390625, 1186.142578125, 6025.2509765625, 4696.931640625, 2587.823974609375, 3300.544677734375, 4534.77197265625, 11593.5126953125, 2215.544921875, 2039.928955078125, 1895.6475830078125, 1702.4674072265625, 1448.2808837890625, 1268.221435546875, 1259.217529296875, 1115.21044921875, 917.2537231445312, 764.9486083984375, 656.700927734375, 654.299072265625, 641.40283203125, 622.2671508789062, 572.221435546875, 556.3416137695312, 546.3494262695312, 517.8767700195312, 460.4991760253906, 454.693603515625, 444.5279541015625, 435.53271484375, 431.8290100097656, 378.8104553222656, 5171.97900390625, 330.19500732421875, 328.2608642578125, 322.00946044921875, 301.42803955078125, 2626.70166015625, 2081.93994140625, 1579.1875, 900.3745727539062, 2355.670654296875, 9405.693359375, 5654.291015625, 9520.681640625, 3585.936279296875, 1652.6220703125, 3762.9765625, 2217.359130859375, 1791.27587890625, 1604.107421875, 1270.9990234375, 1073.4725341796875, 955.3182373046875, 869.1071166992188, 828.6663818359375, 800.9224243164062, 724.8702392578125, 709.7164306640625, 669.6810913085938, 627.4052124023438, 620.0941772460938, 450.0802307128906, 440.43817138671875, 416.43310546875, 407.5342102050781, 401.24725341796875, 382.96856689453125, 382.5744323730469, 333.03656005859375, 300.93646240234375, 275.24365234375, 263.99365234375, 260.0711669921875, 258.8668212890625, 256.7249755859375, 253.20970153808594, 474.8247375488281, 638.5247192382812, 2081.93994140625], \"loglift\": [30.0, 29.0, 28.0, 27.0, 26.0, 25.0, 24.0, 23.0, 22.0, 21.0, 20.0, 19.0, 18.0, 17.0, 16.0, 15.0, 14.0, 13.0, 12.0, 11.0, 10.0, 9.0, 8.0, 7.0, 6.0, 5.0, 4.0, 3.0, 2.0, 1.0, 0.9598000049591064, 0.9598000049591064, 0.9598000049591064, 0.9598000049591064, 0.9598000049591064, 0.9596999883651733, 0.9596999883651733, 0.9596999883651733, 0.9596999883651733, 0.9596999883651733, 0.9596999883651733, 0.9596999883651733, 0.9596999883651733, 0.9595999717712402, 0.9595999717712402, 0.9595999717712402, 0.9595999717712402, 0.9595999717712402, 0.9595999717712402, 0.9595999717712402, 0.9595999717712402, 0.9595999717712402, 0.9595999717712402, 0.9595999717712402, 0.9595999717712402, 0.9595000147819519, 0.9595000147819519, 0.9593999981880188, 0.9593999981880188, 0.9593999981880188, 0.9588000178337097, 0.9433000087738037, 0.9386000037193298, 0.9480999708175659, 0.9352999925613403, 0.9369999766349792, 0.9474999904632568, 0.871399998664856, 0.9124000072479248, 0.8953999876976013, 0.8497999906539917, 0.9034000039100647, 0.8808000087738037, 0.8946999907493591, 0.8210999965667725, 0.3075000047683716, 0.8029999732971191, 0.4706000089645386, 0.6707000136375427, 0.6571999788284302, 0.5737000107765198, 0.27300000190734863, 1.7545000314712524, 1.7545000314712524, 1.7545000314712524, 1.7544000148773193, 1.7544000148773193, 1.7544000148773193, 1.7544000148773193, 1.7542999982833862, 1.7542999982833862, 1.7542999982833862, 1.7542999982833862, 1.7541999816894531, 1.7541999816894531, 1.753999948501587, 1.753999948501587, 1.7539000511169434, 1.7539000511169434, 1.7539000511169434, 1.7539000511169434, 1.7539000511169434, 1.7539000511169434, 1.7539000511169434, 1.7539000511169434, 1.7539000511169434, 1.7538000345230103, 1.7538000345230103, 1.7538000345230103, 1.7538000345230103, 1.7537000179290771, 1.7537000179290771, 1.7476999759674072, 1.7474000453948975, 1.7204999923706055, 1.7216999530792236, 1.7075999975204468, 1.7115999460220337, 1.7174999713897705, 1.7502000331878662, 1.6694999933242798, 1.5002000331878662, 1.6502000093460083, 1.4922000169754028, 1.663100004196167, 1.7098000049591064, 1.524999976158142, 1.0146000385284424, 1.448199987411499, 1.5881999731063843, 1.4431999921798706, 1.3011000156402588, 1.3621000051498413, 0.861299991607666, 0.7418000102043152, 0.9401999711990356, 0.631600022315979, 1.3873000144958496, 0.48030000925064087, 2.408099889755249, 2.408099889755249, 2.407900094985962, 2.407900094985962, 2.407900094985962, 2.4077999591827393, 2.4077999591827393, 2.4077999591827393, 2.4077999591827393, 2.4077000617980957, 2.4075000286102295, 2.4075000286102295, 2.4075000286102295, 2.4075000286102295, 2.4072999954223633, 2.4072999954223633, 2.4072000980377197, 2.4072000980377197, 2.4072000980377197, 2.4072000980377197, 2.407099962234497, 2.407099962234497, 2.4070000648498535, 2.406899929046631, 2.406899929046631, 2.406899929046631, 2.406899929046631, 2.406899929046631, 2.4068000316619873, 2.4068000316619873, 2.380500078201294, 2.3245999813079834, 2.297300100326538, 2.349600076675415, 2.197499990463257, 2.2894999980926514, 2.1178998947143555, 2.2936999797821045, 2.1686999797821045, 2.1805999279022217, 2.1846001148223877, 2.310699939727783, 2.1816999912261963, 1.3920999765396118, 1.9039000272750854, 1.3740999698638916, 1.767300009727478, 2.5392000675201416, 2.539099931716919, 2.5390000343322754, 2.5390000343322754, 2.5390000343322754, 2.5390000343322754, 2.5390000343322754, 2.5388998985290527, 2.538800001144409, 2.538800001144409, 2.538800001144409, 2.5387001037597656, 2.5387001037597656, 2.538599967956543, 2.538599967956543, 2.538599967956543, 2.5385000705718994, 2.5385000705718994, 2.5385000705718994, 2.5383999347686768, 2.5383999347686768, 2.538300037384033, 2.538300037384033, 2.538300037384033, 2.5381999015808105, 2.5381999015808105, 2.538100004196167, 2.538100004196167, 2.538100004196167, 2.5380001068115234, 2.510499954223633, 2.3617000579833984, 2.3554000854492188, 2.1287999153137207, 2.4070000648498535, 2.349400043487549, 2.0083999633789062, 2.2727999687194824, 1.0729000568389893, 1.3566999435424805, 1.6246000528335571, 1.2066999673843384, 1.9219000339508057, 2.6689999103546143, 2.668800115585327, 2.668800115585327, 2.6686999797821045, 2.6686999797821045, 2.6686999797821045, 2.6686999797821045, 2.6686999797821045, 2.6686999797821045, 2.6686999797821045, 2.668600082397461, 2.668600082397461, 2.6684999465942383, 2.6684999465942383, 2.6684000492095947, 2.6684000492095947, 2.6684000492095947, 2.668299913406372, 2.668299913406372, 2.6682000160217285, 2.6682000160217285, 2.6682000160217285, 2.668100118637085, 2.668100118637085, 2.668100118637085, 2.6679999828338623, 2.6679999828338623, 2.6679000854492188, 2.6679000854492188, 2.667799949645996, 2.66729998588562, 2.648900032043457, 2.643399953842163, 2.585599899291992, 2.5327000617980957, 2.552000045776367, 2.488800048828125, 2.625, 2.2202999591827393, 1.7473000288009644, 2.191699981689453, 2.406599998474121, 1.3213000297546387, 1.4532999992370605, 1.073799967765808, 2.7864999771118164, 2.7864999771118164, 2.786400079727173, 2.786400079727173, 2.786400079727173, 2.78629994392395, 2.78629994392395, 2.7862000465393066, 2.7862000465393066, 2.786099910736084, 2.786099910736084, 2.786099910736084, 2.786099910736084, 2.7857000827789307, 2.7857000827789307, 2.785599946975708, 2.785599946975708, 2.7855000495910645, 2.785399913787842, 2.7853000164031982, 2.785099983215332, 2.7850000858306885, 2.7850000858306885, 2.784899950027466, 2.784899950027466, 2.7848000526428223, 2.7846999168395996, 2.784600019454956, 2.78439998626709, 2.78439998626709, 2.776599884033203, 2.5532000064849854, 2.648900032043457, 2.105799913406372, 2.446700096130371, 2.0213000774383545, 2.1340999603271484, 1.986899971961975, 2.4082000255584717, 2.1273000240325928, 1.7024999856948853, 1.7231999635696411, 0.5246999859809875, 1.1543999910354614, 1.697100043296814, 2.799999952316284, 2.799999952316284, 2.799999952316284, 2.7999000549316406, 2.799799919128418, 2.7997000217437744, 2.7997000217437744, 2.7997000217437744, 2.7995998859405518, 2.7995998859405518, 2.7995998859405518, 2.7995998859405518, 2.7994000911712646, 2.7994000911712646, 2.7994000911712646, 2.7994000911712646, 2.7994000911712646, 2.7992000579833984, 2.7992000579833984, 2.7992000579833984, 2.7992000579833984, 2.7992000579833984, 2.7990000247955322, 2.798799991607666, 2.798799991607666, 2.7985999584198, 2.7985000610351562, 2.7985000610351562, 2.7983999252319336, 2.79830002784729, 2.738300085067749, 2.46589994430542, 2.541300058364868, 2.575200080871582, 2.202899932861328, 2.24180006980896, 1.9520000219345093, 2.220400094985962, 1.7927000522613525, 1.7824000120162964, 3.410900115966797, 3.410900115966797, 3.410900115966797, 3.410900115966797, 3.410599946975708, 3.4105000495910645, 3.4102001190185547, 3.4100000858306885, 3.4100000858306885, 3.4098000526428223, 3.4096999168395996, 3.4096999168395996, 3.4096999168395996, 3.409600019454956, 3.4093000888824463, 3.40910005569458, 3.40910005569458, 3.408799886703491, 3.408600091934204, 3.4084999561309814, 3.4084999561309814, 3.408400058746338, 3.408400058746338, 3.4082999229431152, 3.408099889755249, 3.407900094985962, 3.4077999591827393, 3.4077999591827393, 3.4077000617980957, 3.4077000617980957, 3.059000015258789, 3.1322999000549316, 2.507699966430664, 2.5613999366760254, 2.706899881362915, 2.8310999870300293, 1.749500036239624, 1.7682000398635864, 2.0917000770568848, 1.5678999423980713, 1.155400037765503, 3.432499885559082, 3.4321000576019287, 3.4321000576019287, 3.431999921798706, 3.431999921798706, 3.4319000244140625, 3.43179988861084, 3.43179988861084, 3.4316999912261963, 3.43149995803833, 3.431299924850464, 3.4310998916625977, 3.4310998916625977, 3.430999994277954, 3.430999994277954, 3.430799961090088, 3.430799961090088, 3.430799961090088, 3.4307000637054443, 3.4303998947143555, 3.4303998947143555, 3.4303998947143555, 3.430299997329712, 3.430299997329712, 3.430000066757202, 3.4296998977661133, 3.4296000003814697, 3.4296000003814697, 3.429500102996826, 3.42930006980896, 3.393899917602539, 3.0761001110076904, 3.003200054168701, 3.0750999450683594, 2.703700065612793, 2.050299882888794, 2.1735999584198, 1.1998000144958496, 1.7247999906539917, 2.2202000617980957, 4.008999824523926, 4.008800029754639, 4.008699893951416, 4.008699893951416, 4.008500099182129, 4.008399963378906, 4.008200168609619, 4.0081000328063965, 4.0081000328063965, 4.007999897003174, 4.007900238037109, 4.007900238037109, 4.007800102233887, 4.007699966430664, 4.007699966430664, 4.0071001052856445, 4.006999969482422, 4.006899833679199, 4.006899833679199, 4.006800174713135, 4.006700038909912, 4.006700038909912, 4.00629997253418, 4.00600004196167, 4.00570011138916, 4.005499839782715, 4.005499839782715, 4.005499839782715, 4.00540018081665, 4.00540018081665, 3.8259999752044678, 3.6022000312805176, 2.18179988861084], \"logprob\": [30.0, 29.0, 28.0, 27.0, 26.0, 25.0, 24.0, 23.0, 22.0, 21.0, 20.0, 19.0, 18.0, 17.0, 16.0, 15.0, 14.0, 13.0, 12.0, 11.0, 10.0, 9.0, 8.0, 7.0, 6.0, 5.0, 4.0, 3.0, 2.0, 1.0, -3.5727999210357666, -3.6712000370025635, -3.9567999839782715, -4.107800006866455, -4.275300025939941, -4.61269998550415, -4.730299949645996, -4.879799842834473, -4.904200077056885, -4.984799861907959, -5.056099891662598, -5.117400169372559, -5.2642998695373535, -5.2820000648498535, -5.290500164031982, -5.362299919128418, -5.3979997634887695, -5.470399856567383, -5.495299816131592, -5.527599811553955, -5.588900089263916, -5.594299793243408, -5.61929988861084, -5.639500141143799, -5.661399841308594, -5.019000053405762, -5.951300144195557, -5.974699974060059, -5.978899955749512, -6.017899990081787, -4.304800033569336, -3.5199999809265137, -4.287700176239014, -5.128600120544434, -4.758999824523926, -4.849599838256836, -5.336299896240234, -4.114299774169922, -4.8480000495910645, -4.641300201416016, -4.063899993896484, -4.790800094604492, -4.564300060272217, -5.078999996185303, -4.750100135803223, -4.0040998458862305, -5.0329999923706055, -4.524400234222412, -4.881899833679199, -4.937399864196777, -4.894100189208984, -4.975200176239014, -4.364799976348877, -4.430500030517578, -4.507699966430664, -4.858699798583984, -4.927599906921387, -4.951300144195557, -5.076300144195557, -5.085999965667725, -5.1305999755859375, -5.222499847412109, -5.242300033569336, -5.372200012207031, -5.464399814605713, -5.747300148010254, -5.78410005569458, -5.808700084686279, -5.818600177764893, -5.82390022277832, -5.832699775695801, -5.861100196838379, -5.86269998550415, -5.9029998779296875, -5.91540002822876, -5.926700115203857, -5.9653000831604, -5.999199867248535, -6.016900062561035, -6.034200191497803, -6.070000171661377, -6.110000133514404, -4.6828999519348145, -5.023799896240234, -4.352099895477295, -4.678800106048584, -4.238800048828125, -4.3694000244140625, -4.940499782562256, -5.850200176239014, -5.264200210571289, -4.0858001708984375, -5.155200004577637, -4.246799945831299, -5.299499988555908, -5.600500106811523, -4.7947001457214355, -3.296999931335449, -4.779399871826172, -5.234799861907959, -4.888000011444092, -4.660900115966797, -4.884900093078613, -4.38700008392334, -4.253200054168701, -4.781599998474121, -4.844299793243408, -5.1519999504089355, -4.987400054931641, -3.1686999797821045, -3.316800117492676, -4.173999786376953, -4.179999828338623, -4.302299976348877, -4.365499973297119, -4.434800148010254, -4.434700012207031, -4.488699913024902, -4.618000030517578, -5.061299800872803, -5.063300132751465, -5.082600116729736, -5.104800224304199, -5.341100215911865, -5.350299835205078, -5.36329984664917, -5.377699851989746, -5.3933000564575195, -5.450799942016602, -5.534299850463867, -5.55019998550415, -5.562099933624268, -5.636499881744385, -5.646900177001953, -5.6717000007629395, -5.683700084686279, -5.688199996948242, -5.74459981918335, -5.746099948883057, -4.00540018081665, -3.566800117492676, -3.9848999977111816, -4.952300071716309, -3.80049991607666, -4.974800109863281, -4.103799819946289, -5.047800064086914, -4.632900238037109, -4.8277997970581055, -4.888299942016602, -5.241600036621094, -5.137400150299072, -4.486599922180176, -5.057499885559082, -4.926799774169922, -5.152699947357178, -2.8622000217437744, -3.5550999641418457, -3.867500066757202, -3.9630000591278076, -4.047599792480469, -4.142199993133545, -4.16949987411499, -4.361199855804443, -4.509099960327148, -4.606400012969971, -4.615600109100342, -4.673799991607666, -4.676700115203857, -4.843900203704834, -4.8506999015808105, -4.880000114440918, -5.037499904632568, -5.071800231933594, -5.0854997634887695, -5.1508002281188965, -5.187399864196777, -5.221099853515625, -5.229000091552734, -5.297999858856201, -5.327199935913086, -5.3850998878479, -5.409299850463867, -5.41349983215332, -5.432700157165527, -5.54010009765625, -4.872799873352051, -4.722599983215332, -4.878900051116943, -4.5706000328063965, -5.147799968719482, -5.115699768066406, -4.747900009155273, -5.114999771118164, -4.666100025177002, -4.952899932861328, -5.021599769592285, -5.020999908447266, -5.1097002029418945, -3.4969000816345215, -4.1356000900268555, -4.2307000160217285, -4.271599769592285, -4.27400016784668, -4.278800010681152, -4.296299934387207, -4.325099945068359, -4.333499908447266, -4.415299892425537, -4.509799957275391, -4.626299858093262, -4.699699878692627, -4.752799987792969, -4.830900192260742, -4.841599941253662, -4.876100063323975, -4.958199977874756, -4.971099853515625, -5.087600231170654, -5.112400054931641, -5.11329984664917, -5.18120002746582, -5.186200141906738, -5.198599815368652, -5.311699867248535, -5.3267998695373535, -5.359300136566162, -5.394199848175049, -5.44320011138916, -5.155900001525879, -4.034599781036377, -3.7952001094818115, -3.5827999114990234, -3.8057000637054443, -4.566999912261963, -4.7546000480651855, -5.084000110626221, -4.287300109863281, -4.130300045013428, -4.704599857330322, -4.89769983291626, -4.305799961090088, -4.9222002029418945, -4.950399875640869, -2.6433000564575195, -3.3369998931884766, -3.615999937057495, -3.6791000366210938, -3.7058000564575195, -3.8231000900268555, -4.08459997177124, -4.279600143432617, -4.2891998291015625, -4.366099834442139, -4.3709001541137695, -4.415900230407715, -4.4394001960754395, -4.923500061035156, -4.970600128173828, -5.020699977874756, -5.071100234985352, -5.152100086212158, -5.267099857330322, -5.3557000160217285, -5.47160005569458, -5.499000072479248, -5.515999794006348, -5.562399864196777, -5.591300010681152, -5.638500213623047, -5.691699981689453, -5.763599872589111, -5.817699909210205, -5.855299949645996, -4.258500099182129, -4.219900131225586, -4.9745001792907715, -3.4347000122070312, -4.611000061035156, -4.250699996948242, -4.550300121307373, -4.444399833679199, -5.099100112915039, -4.809800148010254, -4.672999858856201, -4.793700218200684, -4.388999938964844, -4.724299907684326, -5.002200126647949, -2.7772998809814453, -3.1019999980926514, -3.310499906539917, -3.5322000980377197, -4.034200191497803, -4.237199783325195, -4.295199871063232, -4.3043999671936035, -4.335400104522705, -4.3632001876831055, -4.3796000480651855, -4.436500072479248, -4.66510009765625, -4.716300010681152, -4.738999843597412, -4.742000102996826, -4.761199951171875, -4.919600009918213, -4.986000061035156, -4.990799903869629, -4.993299961090088, -5.007299900054932, -5.154699802398682, -5.318900108337402, -5.331399917602539, -5.43209981918335, -5.532800197601318, -5.535900115966797, -5.567299842834473, -5.613399982452393, -5.049200057983398, -3.595599889755249, -4.4583001136779785, -4.693999767303467, -4.228400230407715, -4.531599998474121, -4.479000091552734, -4.80079984664917, -4.582799911499023, -4.725200176239014, -2.1426000595092773, -2.3125, -2.5762999057769775, -2.6784000396728516, -3.5041000843048096, -3.735300064086914, -4.204699993133545, -4.451300144195557, -4.464099884033203, -4.601900100708008, -4.688600063323975, -4.709099769592285, -4.7241997718811035, -4.789599895477295, -4.942599773406982, -5.071100234985352, -5.07450008392334, -5.19789981842041, -5.285900115966797, -5.326300144195557, -5.333899974822998, -5.372000217437744, -5.382999897003174, -5.416299819946289, -5.4664998054504395, -5.554999828338623, -5.57289981842041, -5.5894999504089355, -5.599800109863281, -5.608799934387207, -3.5915000438690186, -5.003200054168701, -3.706700086593628, -4.211999893188477, -4.612400054931641, -4.792099952697754, -4.248499870300293, -4.478799819946289, -4.751399993896484, -5.031899929046631, -5.126800060272217, -1.9110000133514404, -3.5662999153137207, -3.648900032043457, -3.7223000526428223, -3.829900026321411, -3.9916999340057373, -4.124499797821045, -4.131700038909912, -4.253200054168701, -4.448800086975098, -4.6305999755859375, -4.783400058746338, -4.787099838256836, -4.807000160217285, -4.837299823760986, -4.921299934387207, -4.94950008392334, -4.967700004577637, -5.021299839019775, -5.138899803161621, -5.151700019836426, -5.174300193786621, -5.194799900054932, -5.203400135040283, -5.334700107574463, -2.7209999561309814, -5.472400188446045, -5.478300094604492, -5.497600078582764, -5.563799858093262, -3.434299945831299, -3.984499931335449, -4.333799839019775, -4.823800086975098, -4.233399868011475, -3.5023999214172363, -3.8879001140594482, -4.340700149536133, -4.792099952697754, -5.071300029754639, -2.459700107574463, -2.988800048828125, -3.2023000717163086, -3.312700033187866, -3.545599937438965, -3.7146999835968018, -3.831399917602539, -3.926100015640259, -3.97379994392395, -4.007900238037109, -4.107800006866455, -4.128900051116943, -4.187099933624268, -4.252399921417236, -4.264100074768066, -4.58519983291626, -4.606900215148926, -4.663000106811523, -4.684700012207031, -4.700300216674805, -4.747000217437744, -4.7480998039245605, -4.8871002197265625, -4.988800048828125, -5.0782999992370605, -5.120200157165527, -5.135200023651123, -5.139900207519531, -5.148200035095215, -5.162099838256836, -4.712699890136719, -4.6402997970581055, -4.878799915313721]}, \"token.table\": {\"Topic\": [8, 3, 4, 7, 3, 6, 4, 6, 1, 2, 3, 6, 7, 5, 7, 4, 8, 5, 9, 2, 1, 10, 7, 1, 5, 5, 5, 3, 4, 6, 7, 10, 8, 1, 4, 6, 8, 8, 10, 1, 2, 1, 2, 10, 2, 2, 6, 4, 10, 5, 6, 1, 5, 7, 2, 6, 1, 2, 6, 9, 9, 2, 1, 7, 5, 10, 9, 9, 10, 4, 10, 8, 3, 6, 7, 2, 4, 9, 4, 7, 8, 8, 10, 9, 4, 4, 8, 2, 1, 2, 4, 2, 4, 6, 9, 5, 7, 3, 7, 2, 3, 7, 3, 2, 5, 9, 2, 3, 6, 2, 7, 8, 4, 6, 4, 1, 3, 4, 6, 5, 3, 6, 9, 2, 6, 2, 4, 3, 1, 8, 9, 10, 8, 2, 3, 7, 7, 9, 9, 8, 5, 10, 9, 6, 6, 6, 2, 3, 9, 5, 1, 2, 4, 5, 7, 1, 3, 1, 9, 7, 3, 5, 8, 2, 4, 4, 6, 1, 1, 7, 8, 2, 3, 7, 9, 2, 4, 7, 8, 10, 1, 4, 3, 1, 4, 3, 5, 8, 9, 8, 10, 7, 9, 7, 3, 4, 7, 2, 3, 2, 7, 5, 8, 1, 1, 1, 3, 1, 6, 8, 3, 1, 2, 1, 1, 2, 4, 8, 5, 7, 8, 7, 6, 5, 6, 1, 4, 6, 1, 6, 9, 4, 2, 3, 6, 7, 10, 1, 3, 6, 8, 3, 3, 7, 10, 10, 4, 6, 10, 6, 7, 4, 5, 5, 5, 3, 7, 4, 3, 6, 2, 1, 2, 3, 5, 7, 3, 2, 2, 4, 9, 1, 5, 2, 3, 8, 2, 1, 6, 2, 3, 1, 2, 10, 10, 10, 9, 6, 2, 10, 1, 2, 4, 3, 6, 1, 2, 4, 1, 2, 4, 6, 1, 6, 9, 7, 8, 5, 1, 2, 4, 5, 8, 2, 10, 5, 9, 7, 6, 1, 3, 10, 9, 1, 7, 1, 9, 4, 1, 2, 7, 6, 9, 1, 2, 6, 6, 10, 1, 2, 3, 7, 8, 7, 3, 3, 1, 5, 2, 4, 10, 6, 5, 2, 3, 5, 1, 1, 2, 3, 4, 10, 8, 3, 6, 4, 2, 6, 4, 8, 6, 10, 3, 7, 9, 1, 3, 4, 6, 9, 7, 9, 2, 3, 4, 4, 6, 7, 6, 3, 8, 9, 3, 7, 8, 8, 3, 8, 2, 1, 6, 2, 7, 1, 3, 5, 1, 5, 9, 7, 4, 4, 4, 7, 2, 2, 1, 4, 1, 6, 9, 2, 2, 6, 3, 1, 3, 6, 7, 7, 1, 2, 3, 5, 7, 8, 5, 1, 9, 9, 5, 7, 4, 5, 5, 3, 7, 1, 5, 1, 5, 5, 3, 4, 1, 3, 5, 7, 8, 7, 8, 1, 5, 4, 2, 4, 4, 7, 8, 7, 1, 2, 3, 7, 1, 2, 5, 10, 10, 6, 3, 5, 1, 2, 3, 6, 7, 3, 7, 9, 3, 7, 7, 10, 5, 3, 2, 4, 10, 3, 1, 3, 10, 5, 2, 6, 2, 4, 5, 7, 2, 1, 6, 6, 9, 6, 6, 3, 8, 4, 1, 3, 1, 8, 1, 8, 4, 7, 8, 2, 6, 6, 3, 5, 7, 1, 2, 3, 5, 6, 7, 4, 1, 9, 2, 8, 1, 5, 4, 1, 1, 1, 3, 9, 2, 8, 3, 9, 3, 2, 1, 3, 5, 10, 7, 2, 3, 3, 10, 9, 3, 5, 7, 8, 1, 2, 3, 7, 9, 6, 1, 2, 5, 2, 8, 5, 2, 1, 2, 4, 2, 4, 9, 3, 5, 7, 3, 1, 3, 1, 1, 3, 1, 9, 9], \"Freq\": [0.9967387914657593, 0.8879502415657043, 0.09067927300930023, 0.020608924329280853, 0.9996165037155151, 0.9984835982322693, 0.9989475011825562, 0.9989172220230103, 0.1985284984111786, 0.7753164768218994, 0.013081335462629795, 0.010443083010613918, 0.0025283254217356443, 0.9998353123664856, 0.9979501366615295, 0.9994868040084839, 0.9960616827011108, 0.9993257522583008, 0.9963809251785278, 0.9992498159408569, 0.9996846318244934, 0.9966514706611633, 0.9992647171020508, 0.042255792766809464, 0.9571855664253235, 0.9991669654846191, 0.9990254640579224, 0.12282298505306244, 0.876294732093811, 0.7919322848320007, 0.20789124071598053, 0.9958812594413757, 0.999165415763855, 0.9997047781944275, 0.9991909265518188, 0.9997186660766602, 0.9998732209205627, 0.99861079454422, 0.9984984993934631, 0.03226790949702263, 0.9675409197807312, 0.00690647354349494, 0.992997407913208, 0.9991958141326904, 0.9988702535629272, 0.2878127992153168, 0.7116303443908691, 0.16637717187404633, 0.8318858742713928, 0.9982911944389343, 0.9979141354560852, 0.4376310110092163, 0.13410447537899017, 0.4281617999076843, 0.9991856813430786, 0.998663604259491, 0.031791120767593384, 0.9633672833442688, 0.004495713859796524, 0.9968650937080383, 0.9975885152816772, 0.9997349977493286, 0.9999091625213623, 0.9998748302459717, 0.9993969202041626, 0.9986891746520996, 0.9999557733535767, 0.9983069896697998, 0.9992877244949341, 0.33358144760131836, 0.6655967831611633, 0.9992625713348389, 0.9433174729347229, 0.056244462728500366, 0.9998306035995483, 0.08171503990888596, 0.832007646560669, 0.08571507781744003, 0.9999020099639893, 0.9997144937515259, 0.9997435808181763, 0.9995865225791931, 0.9974709153175354, 0.9984745979309082, 0.9986993074417114, 0.9989757537841797, 0.9950305819511414, 0.9995708465576172, 0.9757175445556641, 0.0029400151688605547, 0.021192610263824463, 0.19143952429294586, 0.12312189489603043, 0.6846778392791748, 0.9978128671646118, 0.999653697013855, 0.9980246424674988, 0.9197470545768738, 0.0801142230629921, 0.9991878271102905, 0.9726501107215881, 0.02715396322309971, 0.9997528195381165, 0.9995568990707397, 0.9995642900466919, 0.9989326596260071, 0.43096476793289185, 0.04814143478870392, 0.5206529498100281, 0.999189019203186, 0.2420215606689453, 0.7570209503173828, 0.6633447408676147, 0.3363579511642456, 0.9989742636680603, 0.977446436882019, 0.022568857297301292, 0.9998456835746765, 0.9970565438270569, 0.9997023940086365, 0.9985779523849487, 0.9990498423576355, 0.9980802536010742, 0.956342875957489, 0.04316183179616928, 0.6924601793289185, 0.3071579933166504, 0.9999176859855652, 0.9997708797454834, 0.1388128399848938, 0.7003083825111389, 0.16090762615203857, 0.9989098310470581, 0.43775561451911926, 0.001847070176154375, 0.5601240396499634, 0.998421311378479, 0.9991155862808228, 0.9961589574813843, 0.9999269247055054, 0.999591052532196, 0.9967346787452698, 0.9979636669158936, 0.9997485280036926, 0.999662458896637, 0.998484194278717, 0.954002857208252, 0.045871585607528687, 0.9986332058906555, 0.998548686504364, 0.13736078143119812, 0.7946321368217468, 0.06776465475559235, 0.9977717399597168, 0.0010296922409906983, 0.9999243021011353, 0.9980322122573853, 0.9998559951782227, 0.9997540712356567, 0.9990526437759399, 0.1274411678314209, 0.8349992036819458, 0.03690604120492935, 0.9993146657943726, 0.9993817210197449, 0.9992971420288086, 0.9970511198043823, 0.999707043170929, 0.6743116974830627, 0.05796375870704651, 0.2674061357975006, 0.732292890548706, 0.10120556503534317, 0.09448941051959991, 0.07156182825565338, 0.7360649108886719, 0.2637304961681366, 0.5722837448120117, 0.42741093039512634, 0.9992139935493469, 0.9997904896736145, 0.9989510178565979, 0.9989738464355469, 0.9997802972793579, 0.9997434616088867, 0.10999102145433426, 0.889603316783905, 0.037689853459596634, 0.962043046951294, 0.9960562586784363, 0.9989829659461975, 0.999049723148346, 0.9990330934524536, 0.9974825978279114, 0.0481979139149189, 0.8370699286460876, 0.11410118639469147, 0.9123092889785767, 0.08709396421909332, 0.20118509232997894, 0.7988231182098389, 0.9990710020065308, 0.999539852142334, 0.9999499320983887, 0.9999059438705444, 0.9989460706710815, 0.0009556244476698339, 0.8958247900009155, 0.10416305810213089, 0.999086320400238, 0.9990943670272827, 0.9999427795410156, 0.9993515610694885, 0.9997705817222595, 0.3245728611946106, 0.10757271945476532, 0.16259555518627167, 0.4051493704319, 0.9994964003562927, 0.9995096921920776, 0.9977642297744751, 0.9995735287666321, 0.9997357726097107, 0.00983212050050497, 0.9897667765617371, 0.11012662202119827, 0.8270293474197388, 0.06262101978063583, 0.47328120470046997, 0.46520400047302246, 0.06134318187832832, 0.9997832179069519, 0.09601601213216782, 0.7870346903800964, 0.04040828347206116, 0.07599722594022751, 0.9975998997688293, 0.7247288823127747, 0.06604970246553421, 0.050900690257549286, 0.15845869481563568, 0.9989921450614929, 0.9994353652000427, 0.9977806806564331, 0.9993870258331299, 0.9971760511398315, 0.9716090559959412, 0.027855003252625465, 0.9968915581703186, 0.05961119011044502, 0.9398698210716248, 0.9990227818489075, 0.9994849562644958, 0.9995993375778198, 0.9982625246047974, 0.8918176293373108, 0.1075015515089035, 0.9998644590377808, 0.7973863482475281, 0.202145516872406, 0.9996667504310608, 0.6077297329902649, 0.022489577531814575, 0.1466933935880661, 0.20274695754051208, 0.020104320719838142, 0.9985687732696533, 0.9995914101600647, 0.9997851252555847, 0.9996896982192993, 0.998759925365448, 0.9883169531822205, 0.011492057703435421, 0.6753345131874084, 0.13114945590496063, 0.1935306042432785, 0.9995417594909668, 0.9998063445091248, 0.9987801909446716, 0.9955065250396729, 0.004120473749935627, 0.15301702916622162, 0.8465175032615662, 0.9968875646591187, 0.999740481376648, 0.9987261295318604, 0.9980145692825317, 0.9991766810417175, 0.9664282202720642, 0.03344228118658066, 0.613095223903656, 0.363133043050766, 0.02374214306473732, 0.9989473223686218, 0.9992335438728333, 0.31396210193634033, 0.6352888941764832, 0.0507526695728302, 0.5666683912277222, 0.3252312242984772, 0.10801654309034348, 0.9987414479255676, 0.47323763370513916, 0.3452375829219818, 0.18126368522644043, 0.5051679015159607, 0.49459174275398254, 0.9990044832229614, 0.5032104849815369, 0.40926530957221985, 0.08751486986875534, 0.9987258911132812, 0.9990829825401306, 0.9996860027313232, 0.9965586066246033, 0.3482803702354431, 0.6509676575660706, 0.999085545539856, 0.9988816380500793, 0.47282829880714417, 0.5266631245613098, 0.9993096590042114, 0.999544620513916, 0.9996998906135559, 0.9997826218605042, 0.9998453259468079, 0.9989160299301147, 0.9997185468673706, 0.9998493194580078, 0.9995912313461304, 0.9994986653327942, 0.8710396885871887, 0.1281684786081314, 0.5338872075080872, 0.44284939765930176, 0.023168690502643585, 0.9996815323829651, 0.998990535736084, 0.6796481013298035, 0.27961382269859314, 0.0395541712641716, 0.0011719755129888654, 0.9978587031364441, 0.9992150664329529, 0.9983112812042236, 0.9996472001075745, 0.6021032929420471, 0.39772364497184753, 0.957795262336731, 0.042019639164209366, 0.9986200928688049, 0.9995781779289246, 0.9996128082275391, 0.2034754455089569, 0.026966625824570656, 0.7691617012023926, 0.9999546408653259, 0.37607723474502563, 0.03686117008328438, 0.04712630435824394, 0.5393862128257751, 0.9977602958679199, 0.998729944229126, 0.9987326860427856, 0.9986772537231445, 0.999460756778717, 0.9009285569190979, 0.09898678213357925, 0.43923893570899963, 0.5597978234291077, 0.9993457198143005, 0.9986282587051392, 0.22776207327842712, 0.7718603610992432, 0.9978605508804321, 0.0105867525562644, 0.7481305003166199, 0.044838011264801025, 0.19637387990951538, 0.9996584057807922, 0.0027068941853940487, 0.9971038103103638, 0.3808644413948059, 0.030823446810245514, 0.5881255269050598, 0.9997655153274536, 0.4495152235031128, 0.5503745675086975, 0.999820351600647, 0.8950836062431335, 0.10474617034196854, 0.9990369081497192, 0.2741076648235321, 0.022629817947745323, 0.7031180262565613, 0.9975664019584656, 0.8100907206535339, 0.18986761569976807, 0.9993495345115662, 0.9451042413711548, 0.05475137382745743, 0.9929150342941284, 0.006832809187471867, 0.6339414715766907, 0.10617231577634811, 0.25976139307022095, 0.9239642024040222, 0.07590694725513458, 0.9988123178482056, 0.9992428421974182, 0.9988122582435608, 0.9992513060569763, 0.9996222257614136, 0.999460756778717, 0.9994401335716248, 0.9992656707763672, 0.6933740377426147, 0.3064536452293396, 0.3865269422531128, 0.5061612129211426, 0.1072402223944664, 0.9992811679840088, 0.9184836149215698, 0.0812293216586113, 0.9995846152305603, 0.08698628842830658, 0.6041197776794434, 0.3088013231754303, 0.9985310435295105, 0.9983237981796265, 0.738879919052124, 0.26100289821624756, 0.9985042810440063, 0.9996562600135803, 0.9994056820869446, 0.9965494871139526, 0.9988168478012085, 0.9997594952583313, 0.9991380572319031, 0.9978654384613037, 0.9988824725151062, 0.9998710751533508, 0.76622074842453, 0.2331976294517517, 0.9994509220123291, 0.9984570145606995, 0.9994677305221558, 0.07990673929452896, 0.9199115633964539, 0.9996793866157532, 0.00016276122187264264, 0.99893718957901, 0.999652624130249, 0.9986745119094849, 0.25612419843673706, 0.3554284870624542, 0.18602703511714935, 0.12356868386268616, 0.07863461971282959, 0.9996196031570435, 0.9967495203018188, 0.9536704421043396, 0.046328987926244736, 0.9992186427116394, 0.7691451907157898, 0.23071794211864471, 0.9995022416114807, 0.9993845820426941, 0.9985023736953735, 0.9978954195976257, 0.854801595211029, 0.13832654058933258, 0.0014114953810349107, 0.00536368228495121, 0.9369280338287354, 0.06285063922405243, 0.9995731115341187, 0.9954816102981567, 0.9982354640960693, 0.9983024001121521, 0.9982771873474121, 0.9995719194412231, 0.2504352033138275, 0.07748759537935257, 0.3619525134563446, 0.19548676908016205, 0.11446361988782883, 0.3461166322231293, 0.35579821467399597, 0.2977087199687958, 0.799830973148346, 0.19983617961406708, 0.9990599155426025, 0.9988483190536499, 0.9990602731704712, 0.9984024167060852, 0.5991398692131042, 0.4004843831062317, 0.9952225089073181, 0.9994922876358032, 0.9875938892364502, 0.012148885056376457, 0.9987994432449341, 0.9986164569854736, 0.9997465014457703, 0.99732506275177, 0.999743640422821, 0.9991586208343506, 0.6384735107421875, 0.3613688051700592, 0.9990286231040955, 0.9997826218605042, 0.9993160963058472, 0.5170502066612244, 0.482665091753006, 0.9999464750289917, 0.999851644039154, 0.9994454383850098, 0.9977604150772095, 0.999366819858551, 0.9996911287307739, 0.9993130564689636, 0.9998545050621033, 0.9971263408660889, 0.9996436238288879, 0.9984126687049866, 0.9990923404693604, 0.9991326332092285, 0.9962350130081177, 0.9993496537208557, 0.9991200566291809, 0.9983313679695129, 0.9990118145942688, 0.9744938015937805, 0.02527134120464325, 0.9996501207351685, 0.20332837104797363, 0.7964454293251038, 0.29657015204429626, 0.3382110297679901, 0.3650839328765869, 0.9998010993003845, 0.7489081025123596, 0.2510181665420532, 0.9990344047546387, 0.9988514184951782, 0.379445880651474, 0.620318591594696, 0.9994634985923767, 0.9999013543128967, 0.999884843826294, 0.9789690971374512, 0.02094338648021221, 0.9952624440193176, 0.9995841979980469, 0.9960498213768005, 0.90711510181427, 0.09188958257436752, 0.9990255832672119, 0.9990739226341248, 0.9375441074371338, 0.011300754733383656, 0.05106266960501671, 0.9962360858917236, 0.999872624874115, 0.9992609024047852, 0.999936580657959, 0.9979252815246582, 0.9968881607055664, 0.9987768530845642, 0.0961066484451294, 0.8724244236946106, 0.03149125725030899, 0.9997602105140686, 0.520825207233429, 0.4770568311214447, 0.002059326507151127, 0.7159164547920227, 0.28403207659721375, 0.9996236562728882, 0.8704220652580261, 0.12943683564662933, 0.9995936751365662, 0.9997155070304871, 0.9976637959480286, 0.9991511702537537, 0.9990420937538147, 0.9153368473052979, 0.026958921924233437, 0.057657115161418915, 0.09218385815620422, 0.20769134163856506, 0.6997087597846985, 0.9992153644561768, 0.9800364971160889, 0.019765442237257957, 0.9997183680534363, 0.9836395978927612, 0.016348086297512054, 0.9996770024299622, 0.9999212622642517, 0.9989868402481079, 0.9998093843460083, 0.9975301027297974, 0.9989145994186401], \"Term\": [\"aa\", \"access\", \"access\", \"access\", \"adapter\", \"adequate\", \"air\", \"alarm\", \"also\", \"also\", \"also\", \"also\", \"also\", \"amazon\", \"amp\", \"angle\", \"anker\", \"antenna\", \"anti\", \"anyone\", \"anything\", \"aperture\", \"app\", \"arrive\", \"arrive\", \"ask\", \"asus\", \"attach\", \"attach\", \"audio\", \"audio\", \"baby\", \"backup\", \"bad\", \"bag\", \"bass\", \"battery\", \"be\", \"bedroom\", \"big\", \"big\", \"bit\", \"bit\", \"blu\", \"blue\", \"bluetooth\", \"bluetooth\", \"body\", \"body\", \"boot\", \"bose\", \"box\", \"box\", \"box\", \"bright\", \"bud\", \"build\", \"build\", \"build\", \"bunch\", \"burn\", \"button\", \"buy\", \"cable\", \"call\", \"camcorder\", \"camera\", \"cancel\", \"canon\", \"cap\", \"cap\", \"capacity\", \"car\", \"car\", \"card\", \"carry\", \"carry\", \"carry\", \"case\", \"channel\", \"charge\", \"charger\", \"chromecast\", \"class\", \"clean\", \"clip\", \"cm\", \"color\", \"come\", \"come\", \"come\", \"comfortable\", \"comfortable\", \"comfortable\", \"compact\", \"company\", \"component\", \"computer\", \"computer\", \"con\", \"connect\", \"connect\", \"connection\", \"connector\", \"contact\", \"content\", \"control\", \"control\", \"control\", \"cool\", \"copy\", \"copy\", \"cord\", \"cord\", \"corner\", \"could\", \"could\", \"cover\", \"crisp\", \"customer\", \"datum\", \"dead\", \"deep\", \"definitely\", \"definitely\", \"design\", \"design\", \"device\", \"different\", \"digital\", \"digital\", \"digital\", \"disk\", \"display\", \"display\", \"display\", \"dock\", \"download\", \"downside\", \"drive\", \"driver\", \"dslr\", \"dust\", \"dvd\", \"ear\", \"earbud\", \"easy\", \"easy\", \"edge\", \"email\", \"enough\", \"enough\", \"enough\", \"error\", \"error\", \"even\", \"eventually\", \"expect\", \"experience\", \"external\", \"fail\", \"fail\", \"fail\", \"fairly\", \"fall\", \"fan\", \"fantastic\", \"far\", \"fast\", \"fast\", \"fast\", \"feature\", \"feature\", \"feature\", \"feature\", \"feel\", \"feel\", \"file\", \"file\", \"filter\", \"fine\", \"fire\", \"firmware\", \"first\", \"fit\", \"fix\", \"fix\", \"flash\", \"flash\", \"flexible\", \"fm\", \"format\", \"frame\", \"freeze\", \"front\", \"front\", \"front\", \"function\", \"function\", \"game\", \"game\", \"garmin\", \"gb\", \"get\", \"give\", \"go\", \"go\", \"good\", \"good\", \"google\", \"gps\", \"great\", \"handle\", \"happy\", \"hard\", \"hard\", \"hard\", \"hard\", \"hardware\", \"hd\", \"hdd\", \"hdmi\", \"headphone\", \"hear\", \"hear\", \"heavy\", \"heavy\", \"heavy\", \"high\", \"high\", \"high\", \"hold\", \"home\", \"home\", \"home\", \"home\", \"hood\", \"hour\", \"hour\", \"hour\", \"hour\", \"house\", \"hp\", \"hub\", \"image\", \"impressive\", \"inch\", \"inch\", \"indoor\", \"input\", \"input\", \"inside\", \"instal\", \"install\", \"installation\", \"internet\", \"internet\", \"ipad\", \"iphone\", \"iphone\", \"ipod\", \"issue\", \"issue\", \"issue\", \"issue\", \"issue\", \"jack\", \"key\", \"keyboard\", \"kindle\", \"kit\", \"know\", \"know\", \"laptop\", \"laptop\", \"laptop\", \"large\", \"last\", \"lcd\", \"lead\", \"lead\", \"leave\", \"leave\", \"len\", \"lens\", \"lense\", \"lg\", \"life\", \"light\", \"light\", \"like\", \"like\", \"like\", \"link\", \"listen\", \"little\", \"little\", \"little\", \"look\", \"look\", \"look\", \"loud\", \"low\", \"low\", \"low\", \"mac\", \"mac\", \"machine\", \"make\", \"make\", \"make\", \"map\", \"mb\", \"mean\", \"meet\", \"memory\", \"memory\", \"menu\", \"mid\", \"minute\", \"minute\", \"mm\", \"mode\", \"money\", \"monitor\", \"month\", \"motion\", \"mount\", \"mouse\", \"move\", \"movie\", \"mp\", \"mp\", \"much\", \"much\", \"much\", \"music\", \"near\", \"need\", \"need\", \"need\", \"need\", \"netbook\", \"netflix\", \"netgear\", \"network\", \"new\", \"new\", \"nice\", \"nice\", \"nikon\", \"noise\", \"not\", \"number\", \"number\", \"number\", \"one\", \"open\", \"open\", \"open\", \"open\", \"optical\", \"os\", \"outlet\", \"output\", \"outside\", \"overall\", \"overall\", \"pack\", \"pack\", \"pair\", \"panasonic\", \"pc\", \"pc\", \"per\", \"phone\", \"phone\", \"phone\", \"phone\", \"photo\", \"picture\", \"picture\", \"place\", \"place\", \"place\", \"plastic\", \"play\", \"play\", \"player\", \"plug\", \"plug\", \"pocket\", \"port\", \"port\", \"port\", \"portrait\", \"power\", \"power\", \"press\", \"price\", \"price\", \"pro\", \"pro\", \"problem\", \"problem\", \"problem\", \"product\", \"product\", \"professional\", \"program\", \"protect\", \"protection\", \"protector\", \"ps\", \"purpose\", \"push\", \"put\", \"put\", \"quality\", \"quality\", \"quality\", \"quick\", \"quite\", \"quite\", \"radio\", \"range\", \"range\", \"range\", \"ray\", \"reader\", \"really\", \"really\", \"reboot\", \"receive\", \"receiver\", \"recharge\", \"recognize\", \"recommend\", \"record\", \"recording\", \"refund\", \"remote\", \"remove\", \"remove\", \"replacement\", \"reset\", \"resolution\", \"return\", \"return\", \"review\", \"review\", \"roku\", \"router\", \"rubber\", \"run\", \"run\", \"run\", \"run\", \"run\", \"samsung\", \"sandisk\", \"say\", \"say\", \"scratch\", \"screen\", \"screen\", \"screw\", \"sd\", \"seagate\", \"security\", \"see\", \"see\", \"see\", \"see\", \"seem\", \"seem\", \"send\", \"sensitive\", \"sensor\", \"serve\", \"server\", \"service\", \"set\", \"set\", \"set\", \"set\", \"set\", \"setting\", \"setting\", \"setting\", \"setup\", \"setup\", \"share\", \"sharp\", \"ship\", \"shut\", \"side\", \"side\", \"sigma\", \"signal\", \"since\", \"since\", \"single\", \"site\", \"size\", \"sleep\", \"small\", \"soft\", \"software\", \"software\", \"solid\", \"something\", \"song\", \"sony\", \"sony\", \"sound\", \"speaker\", \"speed\", \"ssd\", \"stand\", \"star\", \"station\", \"still\", \"stock\", \"stop\", \"storage\", \"strap\", \"stream\", \"strength\", \"sturdy\", \"sub\", \"subwoofer\", \"supply\", \"support\", \"support\", \"sure\", \"switch\", \"switch\", \"system\", \"system\", \"system\", \"tablet\", \"take\", \"take\", \"tape\", \"tb\", \"tell\", \"tell\", \"thin\", \"thing\", \"think\", \"time\", \"time\", \"tivo\", \"touch\", \"touchpad\", \"transfer\", \"transfer\", \"trip\", \"tripod\", \"try\", \"try\", \"try\", \"tube\", \"tv\", \"type\", \"unit\", \"unplug\", \"unusable\", \"up\", \"update\", \"update\", \"update\", \"usb\", \"use\", \"use\", \"use\", \"video\", \"video\", \"volume\", \"want\", \"want\", \"warranty\", \"watch\", \"wd\", \"website\", \"weight\", \"well\", \"well\", \"well\", \"wide\", \"wide\", \"wide\", \"wifi\", \"window\", \"window\", \"wireless\", \"work\", \"work\", \"worth\", \"would\", \"xbox\", \"year\", \"zipper\", \"zoom\"]}, \"R\": 30, \"lambda.step\": 0.01, \"plot.opts\": {\"xlab\": \"PC1\", \"ylab\": \"PC2\"}, \"topic.order\": [3, 6, 7, 1, 4, 10, 5, 2, 9, 8]};\n",
       "\n",
       "function LDAvis_load_lib(url, callback){\n",
       "  var s = document.createElement('script');\n",
       "  s.src = url;\n",
       "  s.async = true;\n",
       "  s.onreadystatechange = s.onload = callback;\n",
       "  s.onerror = function(){console.warn(\"failed to load library \" + url);};\n",
       "  document.getElementsByTagName(\"head\")[0].appendChild(s);\n",
       "}\n",
       "\n",
       "if(typeof(LDAvis) !== \"undefined\"){\n",
       "   // already loaded: just create the visualization\n",
       "   !function(LDAvis){\n",
       "       new LDAvis(\"#\" + \"ldavis_el22961138787108166417168660\", ldavis_el22961138787108166417168660_data);\n",
       "   }(LDAvis);\n",
       "}else if(typeof define === \"function\" && define.amd){\n",
       "   // require.js is available: use it to load d3/LDAvis\n",
       "   require.config({paths: {d3: \"https://cdnjs.cloudflare.com/ajax/libs/d3/3.5.5/d3.min\"}});\n",
       "   require([\"d3\"], function(d3){\n",
       "      window.d3 = d3;\n",
       "      LDAvis_load_lib(\"https://cdn.rawgit.com/bmabey/pyLDAvis/files/ldavis.v1.0.0.js\", function(){\n",
       "        new LDAvis(\"#\" + \"ldavis_el22961138787108166417168660\", ldavis_el22961138787108166417168660_data);\n",
       "      });\n",
       "    });\n",
       "}else{\n",
       "    // require.js not available: dynamically load d3 & LDAvis\n",
       "    LDAvis_load_lib(\"https://cdnjs.cloudflare.com/ajax/libs/d3/3.5.5/d3.min.js\", function(){\n",
       "         LDAvis_load_lib(\"https://cdn.rawgit.com/bmabey/pyLDAvis/files/ldavis.v1.0.0.js\", function(){\n",
       "                 new LDAvis(\"#\" + \"ldavis_el22961138787108166417168660\", ldavis_el22961138787108166417168660_data);\n",
       "            })\n",
       "         });\n",
       "}\n",
       "</script>"
      ],
      "text/plain": [
       "PreparedData(topic_coordinates=              x         y  topics  cluster       Freq\n",
       "topic                                                \n",
       "2      0.264273  0.014873       1        1  38.294834\n",
       "5      0.251303 -0.081413       2        1  17.295485\n",
       "6      0.054213  0.178535       3        1   8.997705\n",
       "0      0.131411 -0.256238       4        1   7.892224\n",
       "3      0.019805  0.216825       5        1   6.931076\n",
       "9     -0.039271 -0.078612       6        1   6.162796\n",
       "4     -0.072909  0.225739       7        1   6.080090\n",
       "1     -0.176029  0.029485       8        1   3.300658\n",
       "8     -0.201903 -0.094782       9        1   3.230459\n",
       "7     -0.230895 -0.154412      10        1   1.814677, topic_info=     Category          Freq        Term         Total  loglift  logprob\n",
       "160   Default  11593.000000      camera  11593.000000  30.0000  30.0000\n",
       "753   Default   9397.000000     battery   9397.000000  29.0000  29.0000\n",
       "255   Default  10634.000000       sound  10634.000000  28.0000  28.0000\n",
       "153   Default  10941.000000        case  10941.000000  27.0000  27.0000\n",
       "849   Default   7928.000000       drive   7928.000000  26.0000  26.0000\n",
       "64    Default  32534.000000         use  32534.000000  25.0000  25.0000\n",
       "75    Default   9176.000000       cable   9176.000000  24.0000  24.0000\n",
       "200   Default  26084.000000         get  26084.000000  23.0000  23.0000\n",
       "343   Default   9405.000000        take   9405.000000  22.0000  22.0000\n",
       "24    Default  27954.000000        work  27954.000000  21.0000  21.0000\n",
       "110   Default  23640.000000         one  23640.000000  20.0000  20.0000\n",
       "298   Default   9180.000000      device   9180.000000  19.0000  19.0000\n",
       "63    Default   6090.000000         usb   6090.000000  18.0000  18.0000\n",
       "423   Default   7917.000000        unit   7917.000000  17.0000  17.0000\n",
       "249   Default   9520.000000     quality   9520.000000  16.0000  16.0000\n",
       "616   Default   5499.000000      charge   5499.000000  15.0000  15.0000\n",
       "525   Default  17818.000000        good  17818.000000  14.0000  14.0000\n",
       "143   Default   6631.000000          tv   6631.000000  13.0000  13.0000\n",
       "646   Default   5171.000000     picture   5171.000000  12.0000  12.0000\n",
       "26    Default  17767.000000       would  17767.000000  11.0000  11.0000\n",
       "829   Default   3762.000000        lens   3762.000000  10.0000  10.0000\n",
       "1016  Default   5383.000000        card   5383.000000   9.0000   9.0000\n",
       "494   Default   5314.000000     speaker   5314.000000   8.0000   8.0000\n",
       "224   Default  15277.000000         buy  15277.000000   7.0000   7.0000\n",
       "4     Default   6702.000000    computer   6702.000000   6.0000   6.0000\n",
       "278   Default   5472.000000         fit   5472.000000   5.0000   5.0000\n",
       "31    Default   5093.000000      amazon   5093.000000   4.0000   4.0000\n",
       "823   Default   5654.000000       video   5654.000000   3.0000   3.0000\n",
       "18    Default   5080.000000      return   5080.000000   2.0000   2.0000\n",
       "51    Default   6025.000000       power   6025.000000   1.0000   1.0000\n",
       "...       ...           ...         ...           ...      ...      ...\n",
       "1238  Topic10   1603.127930          mm   1604.107422   4.0087  -3.3127\n",
       "2381  Topic10   1270.019531      filter   1270.999023   4.0085  -3.5456\n",
       "1972  Topic10   1072.492920   panasonic   1073.472534   4.0084  -3.7147\n",
       "2351  Topic10    954.338745       nikon    955.318237   4.0082  -3.8314\n",
       "2225  Topic10    868.127686       lense    869.107117   4.0081  -3.9261\n",
       "1969  Topic10    827.686829         blu    828.666382   4.0081  -3.9738\n",
       "830   Topic10    799.942810       sharp    800.922424   4.0080  -4.0079\n",
       "1226  Topic10    723.890503      single    724.870239   4.0079  -4.1078\n",
       "1225  Topic10    708.736755        near    709.716431   4.0079  -4.1289\n",
       "1376  Topic10    668.701416          fm    669.681091   4.0078  -4.1871\n",
       "2391  Topic10    626.425598     optical    627.405212   4.0077  -4.2524\n",
       "2747  Topic10    619.114563      sensor    620.094177   4.0077  -4.2641\n",
       "1171  Topic10    449.100769        hood    450.080231   4.0071  -4.5852\n",
       "2186  Topic10    439.458649        dslr    440.438171   4.0070  -4.6069\n",
       "3795  Topic10    415.453308        meet    416.433105   4.0069  -4.6630\n",
       "3157  Topic10    406.554657   camcorder    407.534210   4.0069  -4.6847\n",
       "3828  Topic10    400.267670      indoor    401.247253   4.0068  -4.7003\n",
       "1222  Topic10    381.988892  chromecast    382.968567   4.0067  -4.7470\n",
       "1221  Topic10    381.594696     bedroom    382.574432   4.0067  -4.7481\n",
       "1763  Topic10    332.057129         len    333.036560   4.0063  -4.8871\n",
       "3744  Topic10    299.956665    unusable    300.936462   4.0060  -4.9888\n",
       "2354  Topic10    274.263794   sensitive    275.243652   4.0057  -5.0783\n",
       "3898  Topic10    263.013977        tube    263.993652   4.0055  -5.1202\n",
       "5795  Topic10    259.091370        baby    260.071167   4.0055  -5.1352\n",
       "1755  Topic10    257.887390    aperture    258.866821   4.0055  -5.1399\n",
       "5608  Topic10    255.745026  impressive    256.724976   4.0054  -5.1482\n",
       "3067  Topic10    252.230255       sigma    253.209702   4.0054  -5.1621\n",
       "2163  Topic10    395.324280        body    474.824738   3.8260  -4.7127\n",
       "1170  Topic10    425.003754         cap    638.524719   3.6022  -4.6403\n",
       "807   Topic10    334.816956     digital   2081.939941   2.1818  -4.8788\n",
       "\n",
       "[473 rows x 6 columns], token_table=      Topic      Freq      Term\n",
       "term                           \n",
       "3901      8  0.996739        aa\n",
       "834       3  0.887950    access\n",
       "834       4  0.090679    access\n",
       "834       7  0.020609    access\n",
       "1452      3  0.999617   adapter\n",
       "2078      6  0.998484  adequate\n",
       "556       4  0.998948       air\n",
       "2655      6  0.998917     alarm\n",
       "69        1  0.198528      also\n",
       "69        2  0.775316      also\n",
       "69        3  0.013081      also\n",
       "69        6  0.010443      also\n",
       "69        7  0.002528      also\n",
       "31        5  0.999835    amazon\n",
       "545       7  0.997950       amp\n",
       "70        4  0.999487     angle\n",
       "4722      8  0.996062     anker\n",
       "577       5  0.999326   antenna\n",
       "1707      9  0.996381      anti\n",
       "519       2  0.999250    anyone\n",
       "587       1  0.999685  anything\n",
       "1755     10  0.996651  aperture\n",
       "539       7  0.999265       app\n",
       "441       1  0.042256    arrive\n",
       "441       5  0.957186    arrive\n",
       "1044      5  0.999167       ask\n",
       "2         5  0.999025      asus\n",
       "71        3  0.122823    attach\n",
       "71        4  0.876295    attach\n",
       "442       6  0.791932     audio\n",
       "...     ...       ...       ...\n",
       "64        2  0.477057       use\n",
       "64        3  0.002059       use\n",
       "823       7  0.715916     video\n",
       "823       9  0.284032     video\n",
       "505       6  0.999624    volume\n",
       "65        1  0.870422      want\n",
       "65        2  0.129437      want\n",
       "387       5  0.999594  warranty\n",
       "824       2  0.999716     watch\n",
       "895       8  0.997664        wd\n",
       "1683      5  0.999151   website\n",
       "1917      2  0.999042    weight\n",
       "506       1  0.915337      well\n",
       "506       2  0.026959      well\n",
       "506       4  0.057657      well\n",
       "607       2  0.092184      wide\n",
       "607       4  0.207691      wide\n",
       "607       9  0.699709      wide\n",
       "1631      3  0.999215      wifi\n",
       "66        5  0.980036    window\n",
       "66        7  0.019765    window\n",
       "676       3  0.999718  wireless\n",
       "24        1  0.983640      work\n",
       "24        3  0.016348      work\n",
       "1075      1  0.999677     worth\n",
       "26        1  0.999921     would\n",
       "435       3  0.998987      xbox\n",
       "388       1  0.999809      year\n",
       "608       9  0.997530    zipper\n",
       "1255      9  0.998915      zoom\n",
       "\n",
       "[605 rows x 3 columns], R=30, lambda_step=0.01, plot_opts={'xlab': 'PC1', 'ylab': 'PC2'}, topic_order=[3, 6, 7, 1, 4, 10, 5, 2, 9, 8])"
      ]
     },
     "execution_count": 108,
     "metadata": {},
     "output_type": "execute_result"
    }
   ],
   "source": [
    "pyLDAvis.enable_notebook()\n",
    "vis = pyLDAvis.gensim.prepare(lda_model, bow_corpus, dictionary)\n",
    "vis"
   ]
  },
  {
   "cell_type": "code",
   "execution_count": 115,
   "metadata": {},
   "outputs": [],
   "source": [
    "def format_topics_sentences(ldamodel, corpus, texts):\n",
    "    # Init output\n",
    "    sent_topics_df = pd.DataFrame()\n",
    "\n",
    "    # Get main topic in each document\n",
    "    for i, row_list in enumerate(ldamodel[corpus]):\n",
    "        row = row_list[0] if ldamodel.per_word_topics else row_list            \n",
    "        # print(row)\n",
    "        row = sorted(row, key=lambda x: (x[1]), reverse=True)\n",
    "        # Get the Dominant topic, Perc Contribution and Keywords for each document\n",
    "        for j, (topic_num, prop_topic) in enumerate(row):\n",
    "            if j == 0:  # => dominant topic\n",
    "                wp = ldamodel.show_topic(topic_num)\n",
    "                topic_keywords = \", \".join([word for word, prop in wp])\n",
    "                sent_topics_df = sent_topics_df.append(pd.Series([int(topic_num), round(prop_topic,4), topic_keywords]), ignore_index=True)\n",
    "            else:\n",
    "                break\n",
    "    sent_topics_df.columns = ['Dominant_Topic', 'Perc_Contribution', 'Topic_Keywords']\n",
    "\n",
    "    # Add original text to the end of the output\n",
    "    contents = pd.Series(texts)\n",
    "    sent_topics_df = pd.concat([sent_topics_df, contents], axis=1)\n",
    "    return(sent_topics_df)"
   ]
  },
  {
   "cell_type": "code",
   "execution_count": 116,
   "metadata": {},
   "outputs": [
    {
     "data": {
      "text/html": [
       "<div>\n",
       "<style scoped>\n",
       "    .dataframe tbody tr th:only-of-type {\n",
       "        vertical-align: middle;\n",
       "    }\n",
       "\n",
       "    .dataframe tbody tr th {\n",
       "        vertical-align: top;\n",
       "    }\n",
       "\n",
       "    .dataframe thead th {\n",
       "        text-align: right;\n",
       "    }\n",
       "</style>\n",
       "<table border=\"1\" class=\"dataframe\">\n",
       "  <thead>\n",
       "    <tr style=\"text-align: right;\">\n",
       "      <th></th>\n",
       "      <th>Document_No</th>\n",
       "      <th>Dominant_Topic</th>\n",
       "      <th>Topic_Perc_Contrib</th>\n",
       "      <th>Keywords</th>\n",
       "      <th>Text</th>\n",
       "    </tr>\n",
       "  </thead>\n",
       "  <tbody>\n",
       "    <tr>\n",
       "      <th>0</th>\n",
       "      <td>0</td>\n",
       "      <td>2.0</td>\n",
       "      <td>0.5045</td>\n",
       "      <td>work, get, one, would, use, good, buy, well, g...</td>\n",
       "      <td>[professional, otr, truck, driver, buy, tnd, t...</td>\n",
       "    </tr>\n",
       "    <tr>\n",
       "      <th>1</th>\n",
       "      <td>1</td>\n",
       "      <td>2.0</td>\n",
       "      <td>0.3313</td>\n",
       "      <td>work, get, one, would, use, good, buy, well, g...</td>\n",
       "      <td>NaN</td>\n",
       "    </tr>\n",
       "    <tr>\n",
       "      <th>2</th>\n",
       "      <td>2</td>\n",
       "      <td>0.0</td>\n",
       "      <td>0.3371</td>\n",
       "      <td>case, fit, ipad, hold, cover, tablet, mount, p...</td>\n",
       "      <td>[process, turn, master, bedroom, fortress, sol...</td>\n",
       "    </tr>\n",
       "    <tr>\n",
       "      <th>3</th>\n",
       "      <td>3</td>\n",
       "      <td>2.0</td>\n",
       "      <td>0.3106</td>\n",
       "      <td>work, get, one, would, use, good, buy, well, g...</td>\n",
       "      <td>[give, mount, star, start, box, mount, wall, r...</td>\n",
       "    </tr>\n",
       "    <tr>\n",
       "      <th>4</th>\n",
       "      <td>4</td>\n",
       "      <td>5.0</td>\n",
       "      <td>0.3992</td>\n",
       "      <td>use, also, easy, screen, like, light, small, n...</td>\n",
       "      <td>NaN</td>\n",
       "    </tr>\n",
       "    <tr>\n",
       "      <th>5</th>\n",
       "      <td>5</td>\n",
       "      <td>2.0</td>\n",
       "      <td>0.2750</td>\n",
       "      <td>work, get, one, would, use, good, buy, well, g...</td>\n",
       "      <td>[concerned, hang, tv, wall, get, mount, due, l...</td>\n",
       "    </tr>\n",
       "    <tr>\n",
       "      <th>6</th>\n",
       "      <td>6</td>\n",
       "      <td>2.0</td>\n",
       "      <td>0.6505</td>\n",
       "      <td>work, get, one, would, use, good, buy, well, g...</td>\n",
       "      <td>NaN</td>\n",
       "    </tr>\n",
       "    <tr>\n",
       "      <th>7</th>\n",
       "      <td>7</td>\n",
       "      <td>2.0</td>\n",
       "      <td>0.4428</td>\n",
       "      <td>work, get, one, would, use, good, buy, well, g...</td>\n",
       "      <td>NaN</td>\n",
       "    </tr>\n",
       "    <tr>\n",
       "      <th>8</th>\n",
       "      <td>8</td>\n",
       "      <td>2.0</td>\n",
       "      <td>0.4671</td>\n",
       "      <td>work, get, one, would, use, good, buy, well, g...</td>\n",
       "      <td>NaN</td>\n",
       "    </tr>\n",
       "    <tr>\n",
       "      <th>9</th>\n",
       "      <td>9</td>\n",
       "      <td>5.0</td>\n",
       "      <td>0.3074</td>\n",
       "      <td>use, also, easy, screen, like, light, small, n...</td>\n",
       "      <td>[price, tablet, love, that, first, design, tab...</td>\n",
       "    </tr>\n",
       "  </tbody>\n",
       "</table>\n",
       "</div>"
      ],
      "text/plain": [
       "   Document_No  Dominant_Topic  Topic_Perc_Contrib  \\\n",
       "0            0             2.0              0.5045   \n",
       "1            1             2.0              0.3313   \n",
       "2            2             0.0              0.3371   \n",
       "3            3             2.0              0.3106   \n",
       "4            4             5.0              0.3992   \n",
       "5            5             2.0              0.2750   \n",
       "6            6             2.0              0.6505   \n",
       "7            7             2.0              0.4428   \n",
       "8            8             2.0              0.4671   \n",
       "9            9             5.0              0.3074   \n",
       "\n",
       "                                            Keywords  \\\n",
       "0  work, get, one, would, use, good, buy, well, g...   \n",
       "1  work, get, one, would, use, good, buy, well, g...   \n",
       "2  case, fit, ipad, hold, cover, tablet, mount, p...   \n",
       "3  work, get, one, would, use, good, buy, well, g...   \n",
       "4  use, also, easy, screen, like, light, small, n...   \n",
       "5  work, get, one, would, use, good, buy, well, g...   \n",
       "6  work, get, one, would, use, good, buy, well, g...   \n",
       "7  work, get, one, would, use, good, buy, well, g...   \n",
       "8  work, get, one, would, use, good, buy, well, g...   \n",
       "9  use, also, easy, screen, like, light, small, n...   \n",
       "\n",
       "                                                Text  \n",
       "0  [professional, otr, truck, driver, buy, tnd, t...  \n",
       "1                                                NaN  \n",
       "2  [process, turn, master, bedroom, fortress, sol...  \n",
       "3  [give, mount, star, start, box, mount, wall, r...  \n",
       "4                                                NaN  \n",
       "5  [concerned, hang, tv, wall, get, mount, due, l...  \n",
       "6                                                NaN  \n",
       "7                                                NaN  \n",
       "8                                                NaN  \n",
       "9  [price, tablet, love, that, first, design, tab...  "
      ]
     },
     "execution_count": 116,
     "metadata": {},
     "output_type": "execute_result"
    }
   ],
   "source": [
    "df_topic_sents_keywords = format_topics_sentences(ldamodel=lda_model, corpus=bow_corpus, texts=X_train['cleaned'])\n",
    "\n",
    "# Format\n",
    "df_dominant_topic = df_topic_sents_keywords.reset_index()\n",
    "df_dominant_topic.columns = ['Document_No', 'Dominant_Topic', 'Topic_Perc_Contrib', 'Keywords', 'Text']\n",
    "df_dominant_topic.head(10)"
   ]
  },
  {
   "cell_type": "code",
   "execution_count": 118,
   "metadata": {
    "collapsed": true
   },
   "outputs": [
    {
     "ename": "TypeError",
     "evalue": "object of type 'float' has no len()",
     "output_type": "error",
     "traceback": [
      "\u001b[0;31m---------------------------------------------------------------------------\u001b[0m",
      "\u001b[0;31mTypeError\u001b[0m                                 Traceback (most recent call last)",
      "\u001b[0;32m<ipython-input-118-cfc41bd4707a>\u001b[0m in \u001b[0;36m<module>\u001b[0;34m\u001b[0m\n\u001b[1;32m      7\u001b[0m \u001b[0;32mfor\u001b[0m \u001b[0mi\u001b[0m\u001b[0;34m,\u001b[0m \u001b[0max\u001b[0m \u001b[0;32min\u001b[0m \u001b[0menumerate\u001b[0m\u001b[0;34m(\u001b[0m\u001b[0maxes\u001b[0m\u001b[0;34m.\u001b[0m\u001b[0mflatten\u001b[0m\u001b[0;34m(\u001b[0m\u001b[0;34m)\u001b[0m\u001b[0;34m)\u001b[0m\u001b[0;34m:\u001b[0m\u001b[0;34m\u001b[0m\u001b[0;34m\u001b[0m\u001b[0m\n\u001b[1;32m      8\u001b[0m     \u001b[0mdf_dominant_topic_sub\u001b[0m \u001b[0;34m=\u001b[0m \u001b[0mdf_dominant_topic\u001b[0m\u001b[0;34m.\u001b[0m\u001b[0mloc\u001b[0m\u001b[0;34m[\u001b[0m\u001b[0mdf_dominant_topic\u001b[0m\u001b[0;34m.\u001b[0m\u001b[0mDominant_Topic\u001b[0m \u001b[0;34m==\u001b[0m \u001b[0mi\u001b[0m\u001b[0;34m,\u001b[0m \u001b[0;34m:\u001b[0m\u001b[0;34m]\u001b[0m\u001b[0;34m\u001b[0m\u001b[0;34m\u001b[0m\u001b[0m\n\u001b[0;32m----> 9\u001b[0;31m     \u001b[0mdoc_lens\u001b[0m \u001b[0;34m=\u001b[0m \u001b[0;34m[\u001b[0m\u001b[0mlen\u001b[0m\u001b[0;34m(\u001b[0m\u001b[0md\u001b[0m\u001b[0;34m)\u001b[0m \u001b[0;32mfor\u001b[0m \u001b[0md\u001b[0m \u001b[0;32min\u001b[0m \u001b[0mdf_dominant_topic_sub\u001b[0m\u001b[0;34m.\u001b[0m\u001b[0mText\u001b[0m\u001b[0;34m]\u001b[0m\u001b[0;34m\u001b[0m\u001b[0;34m\u001b[0m\u001b[0m\n\u001b[0m\u001b[1;32m     10\u001b[0m     \u001b[0max\u001b[0m\u001b[0;34m.\u001b[0m\u001b[0mhist\u001b[0m\u001b[0;34m(\u001b[0m\u001b[0mdoc_lens\u001b[0m\u001b[0;34m,\u001b[0m \u001b[0mbins\u001b[0m \u001b[0;34m=\u001b[0m \u001b[0;36m1000\u001b[0m\u001b[0;34m,\u001b[0m \u001b[0mcolor\u001b[0m\u001b[0;34m=\u001b[0m\u001b[0mcols\u001b[0m\u001b[0;34m[\u001b[0m\u001b[0mi\u001b[0m\u001b[0;34m]\u001b[0m\u001b[0;34m)\u001b[0m\u001b[0;34m\u001b[0m\u001b[0;34m\u001b[0m\u001b[0m\n\u001b[1;32m     11\u001b[0m     \u001b[0max\u001b[0m\u001b[0;34m.\u001b[0m\u001b[0mtick_params\u001b[0m\u001b[0;34m(\u001b[0m\u001b[0maxis\u001b[0m\u001b[0;34m=\u001b[0m\u001b[0;34m'y'\u001b[0m\u001b[0;34m,\u001b[0m \u001b[0mlabelcolor\u001b[0m\u001b[0;34m=\u001b[0m\u001b[0mcols\u001b[0m\u001b[0;34m[\u001b[0m\u001b[0mi\u001b[0m\u001b[0;34m]\u001b[0m\u001b[0;34m,\u001b[0m \u001b[0mcolor\u001b[0m\u001b[0;34m=\u001b[0m\u001b[0mcols\u001b[0m\u001b[0;34m[\u001b[0m\u001b[0mi\u001b[0m\u001b[0;34m]\u001b[0m\u001b[0;34m)\u001b[0m\u001b[0;34m\u001b[0m\u001b[0;34m\u001b[0m\u001b[0m\n",
      "\u001b[0;32m<ipython-input-118-cfc41bd4707a>\u001b[0m in \u001b[0;36m<listcomp>\u001b[0;34m(.0)\u001b[0m\n\u001b[1;32m      7\u001b[0m \u001b[0;32mfor\u001b[0m \u001b[0mi\u001b[0m\u001b[0;34m,\u001b[0m \u001b[0max\u001b[0m \u001b[0;32min\u001b[0m \u001b[0menumerate\u001b[0m\u001b[0;34m(\u001b[0m\u001b[0maxes\u001b[0m\u001b[0;34m.\u001b[0m\u001b[0mflatten\u001b[0m\u001b[0;34m(\u001b[0m\u001b[0;34m)\u001b[0m\u001b[0;34m)\u001b[0m\u001b[0;34m:\u001b[0m\u001b[0;34m\u001b[0m\u001b[0;34m\u001b[0m\u001b[0m\n\u001b[1;32m      8\u001b[0m     \u001b[0mdf_dominant_topic_sub\u001b[0m \u001b[0;34m=\u001b[0m \u001b[0mdf_dominant_topic\u001b[0m\u001b[0;34m.\u001b[0m\u001b[0mloc\u001b[0m\u001b[0;34m[\u001b[0m\u001b[0mdf_dominant_topic\u001b[0m\u001b[0;34m.\u001b[0m\u001b[0mDominant_Topic\u001b[0m \u001b[0;34m==\u001b[0m \u001b[0mi\u001b[0m\u001b[0;34m,\u001b[0m \u001b[0;34m:\u001b[0m\u001b[0;34m]\u001b[0m\u001b[0;34m\u001b[0m\u001b[0;34m\u001b[0m\u001b[0m\n\u001b[0;32m----> 9\u001b[0;31m     \u001b[0mdoc_lens\u001b[0m \u001b[0;34m=\u001b[0m \u001b[0;34m[\u001b[0m\u001b[0mlen\u001b[0m\u001b[0;34m(\u001b[0m\u001b[0md\u001b[0m\u001b[0;34m)\u001b[0m \u001b[0;32mfor\u001b[0m \u001b[0md\u001b[0m \u001b[0;32min\u001b[0m \u001b[0mdf_dominant_topic_sub\u001b[0m\u001b[0;34m.\u001b[0m\u001b[0mText\u001b[0m\u001b[0;34m]\u001b[0m\u001b[0;34m\u001b[0m\u001b[0;34m\u001b[0m\u001b[0m\n\u001b[0m\u001b[1;32m     10\u001b[0m     \u001b[0max\u001b[0m\u001b[0;34m.\u001b[0m\u001b[0mhist\u001b[0m\u001b[0;34m(\u001b[0m\u001b[0mdoc_lens\u001b[0m\u001b[0;34m,\u001b[0m \u001b[0mbins\u001b[0m \u001b[0;34m=\u001b[0m \u001b[0;36m1000\u001b[0m\u001b[0;34m,\u001b[0m \u001b[0mcolor\u001b[0m\u001b[0;34m=\u001b[0m\u001b[0mcols\u001b[0m\u001b[0;34m[\u001b[0m\u001b[0mi\u001b[0m\u001b[0;34m]\u001b[0m\u001b[0;34m)\u001b[0m\u001b[0;34m\u001b[0m\u001b[0;34m\u001b[0m\u001b[0m\n\u001b[1;32m     11\u001b[0m     \u001b[0max\u001b[0m\u001b[0;34m.\u001b[0m\u001b[0mtick_params\u001b[0m\u001b[0;34m(\u001b[0m\u001b[0maxis\u001b[0m\u001b[0;34m=\u001b[0m\u001b[0;34m'y'\u001b[0m\u001b[0;34m,\u001b[0m \u001b[0mlabelcolor\u001b[0m\u001b[0;34m=\u001b[0m\u001b[0mcols\u001b[0m\u001b[0;34m[\u001b[0m\u001b[0mi\u001b[0m\u001b[0;34m]\u001b[0m\u001b[0;34m,\u001b[0m \u001b[0mcolor\u001b[0m\u001b[0;34m=\u001b[0m\u001b[0mcols\u001b[0m\u001b[0;34m[\u001b[0m\u001b[0mi\u001b[0m\u001b[0;34m]\u001b[0m\u001b[0;34m)\u001b[0m\u001b[0;34m\u001b[0m\u001b[0;34m\u001b[0m\u001b[0m\n",
      "\u001b[0;31mTypeError\u001b[0m: object of type 'float' has no len()"
     ]
    },
    {
     "data": {
      "image/png": "[encoded data removed]",
      "text/plain": [
       "<Figure size 2560x2240 with 4 Axes>"
      ]
     },
     "metadata": {
      "needs_background": "light"
     },
     "output_type": "display_data"
    }
   ],
   "source": [
    "import seaborn as sns\n",
    "import matplotlib.colors as mcolors\n",
    "cols = [color for name, color in mcolors.TABLEAU_COLORS.items()]  # more colors: 'mcolors.XKCD_COLORS'\n",
    "\n",
    "fig, axes = plt.subplots(2,2,figsize=(16,14), dpi=160, sharex=True, sharey=True)\n",
    "\n",
    "for i, ax in enumerate(axes.flatten()):    \n",
    "    df_dominant_topic_sub = df_dominant_topic.loc[df_dominant_topic.Dominant_Topic == i, :]\n",
    "    doc_lens = [len(d) for d in df_dominant_topic_sub.Text]\n",
    "    ax.hist(doc_lens, bins = 1000, color=cols[i])\n",
    "    ax.tick_params(axis='y', labelcolor=cols[i], color=cols[i])\n",
    "    sns.kdeplot(doc_lens, color=\"black\", shade=False, ax=ax.twinx())\n",
    "    ax.set(xlim=(0, 1000), xlabel='Document Word Count')\n",
    "    ax.set_ylabel('Number of Documents', color=cols[i])\n",
    "    ax.set_title('Topic: '+str(i), fontdict=dict(size=16, color=cols[i]))\n",
    "\n",
    "fig.tight_layout()\n",
    "fig.subplots_adjust(top=0.90)\n",
    "plt.xticks(np.linspace(0,1000,9))\n",
    "fig.suptitle('Distribution of Document Word Counts by Dominant Topic', fontsize=22)\n",
    "plt.show()"
   ]
  },
  {
   "cell_type": "code",
   "execution_count": 139,
   "metadata": {},
   "outputs": [],
   "source": [
    "def create_word_clouds(model, n=2, j=5, save=None, start=None, stop=None):\n",
    "    \"\"\"\n",
    "    create_word_clouds(model, n, j, save, start, stop):\n",
    "    Params:\n",
    "        model: gensim LDA model object\n",
    "        n: number of subplots in a column  (default=2)\n",
    "        j: number of subplots in a row (default=5)\n",
    "        save: save the figure (optional, default=0)\n",
    "        start: from what number topic you wish to create the subplot (optional, default=0)\n",
    "        stop: stop the subplot at a certain topic (optional, default=None)\n",
    "        \n",
    "    Returns:\n",
    "        Word cloud image for every topic LDA created\n",
    "    \"\"\"\n",
    "    # create color list\n",
    "    colors_list = [color for name, color in mcolors.TABLEAU_COLORS.items()]\n",
    "    \n",
    "    # instantiate cloud\n",
    "    cloud = WordCloud(background_color='white',\n",
    "                      width=1028,\n",
    "                      height=726,\n",
    "                      max_words=10,\n",
    "                      colormap='tab10',\n",
    "                      color_func=lambda *args, **kwargs: colors_list[start],\n",
    "                      prefer_horizontal=1.0)\n",
    "    \n",
    "    # extract topics\n",
    "    topics = model.show_topics(formatted=False)\n",
    "    \n",
    "    # create subplots \n",
    "    fig, axes = plt.subplots(n, j, figsize=(10,10), sharex=True, sharey=True)\n",
    "    \n",
    "    for ax in axes.flatten():\n",
    "        fig.add_subplot(ax)\n",
    "        topic_words = dict(topics[start][1])\n",
    "        cloud.generate_from_frequencies(topic_words, max_font_size=300)\n",
    "        plt.gca().imshow(cloud)\n",
    "        plt.gca().set_title('Topic ' + str(start+1), fontdict=dict(size=16))\n",
    "        # hide axis\n",
    "        plt.gca().axis('off')\n",
    "        start += 1\n",
    "        if start == stop:\n",
    "            break\n",
    "        \n",
    "    plt.subplots_adjust(wspace=0, hspace=0)\n",
    "    # hide axis\n",
    "    plt.axis('off')\n",
    "    plt.margins(x=0, y=0)\n",
    "    plt.tight_layout()\n",
    "    plt.savefig(f'topics_cloud{start}.png',dpi=500)\n",
    "    plt.show()"
   ]
  },
  {
   "cell_type": "code",
   "execution_count": 140,
   "metadata": {
    "scrolled": true
   },
   "outputs": [
    {
     "data": {
      "image/png": "[encoded data removed]",
      "text/plain": [
       "<Figure size 720x720 with 5 Axes>"
      ]
     },
     "metadata": {
      "needs_background": "light"
     },
     "output_type": "display_data"
    },
    {
     "data": {
      "image/png": "[encoded data removed]",
      "text/plain": [
       "<Figure size 720x720 with 5 Axes>"
      ]
     },
     "metadata": {
      "needs_background": "light"
     },
     "output_type": "display_data"
    }
   ],
   "source": [
    "# plot and save the different topics. each word is sized by how many time they repeat\n",
    "for start in [0, 5]:\n",
    "    create_word_clouds(lda_model, n=1, j=5, start=start)"
   ]
  }
 ],
 "metadata": {
  "kernelspec": {
   "display_name": "Python 3",
   "language": "python",
   "name": "python3"
  },
  "language_info": {
   "codemirror_mode": {
    "name": "ipython",
    "version": 3
   },
   "file_extension": ".py",
   "mimetype": "text/x-python",
   "name": "python",
   "nbconvert_exporter": "python",
   "pygments_lexer": "ipython3",
   "version": "3.7.3"
  }
 },
 "nbformat": 4,
 "nbformat_minor": 2
}
